{
  "nbformat": 4,
  "nbformat_minor": 0,
  "metadata": {
    "colab": {
      "provenance": [],
      "gpuType": "T4"
    },
    "kernelspec": {
      "name": "python3",
      "display_name": "Python 3"
    },
    "language_info": {
      "name": "python"
    },
    "accelerator": "GPU"
  },
  "cells": [
    {
      "cell_type": "markdown",
      "source": [
        "# **Análisis de Sentimientos de Review de Películas**"
      ],
      "metadata": {
        "id": "kCBsXNX0L8T9"
      }
    },
    {
      "cell_type": "markdown",
      "source": [
        "Dataset: https://www.kaggle.com/datasets/yasserh/imdb-movie-ratings-sentiment-analysis"
      ],
      "metadata": {
        "id": "b64neV2XNd6w"
      }
    },
    {
      "cell_type": "markdown",
      "source": [
        "Instalar Torch v2.3"
      ],
      "metadata": {
        "id": "jpgmBVHMMEvf"
      }
    },
    {
      "cell_type": "code",
      "source": [
        "!pip install torch==2.3"
      ],
      "metadata": {
        "id": "FNK8aQWpma3D"
      },
      "execution_count": null,
      "outputs": []
    },
    {
      "cell_type": "markdown",
      "source": [
        "Instalar torchtext v0.18"
      ],
      "metadata": {
        "id": "LW9EeLBEMIeR"
      }
    },
    {
      "cell_type": "code",
      "source": [
        "!pip install torchtext"
      ],
      "metadata": {
        "id": "1lLNK9DenfjP"
      },
      "execution_count": null,
      "outputs": []
    },
    {
      "cell_type": "code",
      "source": [
        "################!pip uninstall -y torchtext"
      ],
      "metadata": {
        "id": "WmO5zl7jl7rc"
      },
      "execution_count": null,
      "outputs": []
    },
    {
      "cell_type": "code",
      "source": [
        "########import torch\n",
        "#########print(torch.__version__)"
      ],
      "metadata": {
        "id": "cKCw6ZuomF4H"
      },
      "execution_count": null,
      "outputs": []
    },
    {
      "cell_type": "markdown",
      "source": [
        "## **Librerías**"
      ],
      "metadata": {
        "id": "2juKe5hUL7qk"
      }
    },
    {
      "cell_type": "code",
      "execution_count": 3,
      "metadata": {
        "colab": {
          "base_uri": "https://localhost:8080/"
        },
        "id": "pt5CpkjAlJsE",
        "outputId": "3c418cbe-9cd1-40b8-ff01-22f51421c4e3"
      },
      "outputs": [
        {
          "output_type": "stream",
          "name": "stderr",
          "text": [
            "/usr/local/lib/python3.10/dist-packages/torchtext/data/__init__.py:4: UserWarning: \n",
            "/!\\ IMPORTANT WARNING ABOUT TORCHTEXT STATUS /!\\ \n",
            "Torchtext is deprecated and the last released version will be 0.18 (this one). You can silence this warning by calling the following at the beginnign of your scripts: `import torchtext; torchtext.disable_torchtext_deprecation_warning()`\n",
            "  warnings.warn(torchtext._TORCHTEXT_DEPRECATION_MSG)\n"
          ]
        }
      ],
      "source": [
        "import torch.nn as nn\n",
        "import torch\n",
        "import pandas as pd\n",
        "import numpy as np\n",
        "import matplotlib.pyplot as plt\n",
        "from torchtext.data.utils import get_tokenizer\n",
        "from torch.utils.data import Dataset, DataLoader\n",
        "import re\n",
        "import nltk\n",
        "from nltk.corpus import stopwords\n",
        "from nltk.stem import SnowballStemmer\n",
        "\n",
        "from sklearn.model_selection import train_test_split"
      ]
    },
    {
      "cell_type": "markdown",
      "source": [
        "## **Carga del dataset**"
      ],
      "metadata": {
        "id": "IWxiNoryMUSu"
      }
    },
    {
      "cell_type": "code",
      "source": [
        "data_df = pd.read_csv(r\"/content/movie.csv\")"
      ],
      "metadata": {
        "id": "mkEsHcNwlOer"
      },
      "execution_count": 9,
      "outputs": []
    },
    {
      "cell_type": "code",
      "source": [
        "data_df.head(10)"
      ],
      "metadata": {
        "colab": {
          "base_uri": "https://localhost:8080/",
          "height": 363
        },
        "id": "4lGDPJIglU_u",
        "outputId": "a411a9ea-f4aa-4676-c4b6-b6529983113f"
      },
      "execution_count": 10,
      "outputs": [
        {
          "output_type": "execute_result",
          "data": {
            "text/plain": [
              "                                                text  label\n",
              "0  I grew up (b. 1965) watching and loving the Th...      0\n",
              "1  When I put this movie in my DVD player, and sa...      0\n",
              "2  Why do people who do not know what a particula...      0\n",
              "3  Even though I have great interest in Biblical ...      0\n",
              "4  Im a die hard Dads Army fan and nothing will e...      1\n",
              "5  A terrible movie as everyone has said. What ma...      0\n",
              "6  Finally watched this shocking movie last night...      1\n",
              "7  I caught this film on AZN on cable. It sounded...      0\n",
              "8  It may be the remake of 1987 Autumn's Tale aft...      1\n",
              "9  My Super Ex Girlfriend turned out to be a plea...      1"
            ],
            "text/html": [
              "\n",
              "  <div id=\"df-d06e424d-999f-4f53-9ade-00a6b0762fc3\" class=\"colab-df-container\">\n",
              "    <div>\n",
              "<style scoped>\n",
              "    .dataframe tbody tr th:only-of-type {\n",
              "        vertical-align: middle;\n",
              "    }\n",
              "\n",
              "    .dataframe tbody tr th {\n",
              "        vertical-align: top;\n",
              "    }\n",
              "\n",
              "    .dataframe thead th {\n",
              "        text-align: right;\n",
              "    }\n",
              "</style>\n",
              "<table border=\"1\" class=\"dataframe\">\n",
              "  <thead>\n",
              "    <tr style=\"text-align: right;\">\n",
              "      <th></th>\n",
              "      <th>text</th>\n",
              "      <th>label</th>\n",
              "    </tr>\n",
              "  </thead>\n",
              "  <tbody>\n",
              "    <tr>\n",
              "      <th>0</th>\n",
              "      <td>I grew up (b. 1965) watching and loving the Th...</td>\n",
              "      <td>0</td>\n",
              "    </tr>\n",
              "    <tr>\n",
              "      <th>1</th>\n",
              "      <td>When I put this movie in my DVD player, and sa...</td>\n",
              "      <td>0</td>\n",
              "    </tr>\n",
              "    <tr>\n",
              "      <th>2</th>\n",
              "      <td>Why do people who do not know what a particula...</td>\n",
              "      <td>0</td>\n",
              "    </tr>\n",
              "    <tr>\n",
              "      <th>3</th>\n",
              "      <td>Even though I have great interest in Biblical ...</td>\n",
              "      <td>0</td>\n",
              "    </tr>\n",
              "    <tr>\n",
              "      <th>4</th>\n",
              "      <td>Im a die hard Dads Army fan and nothing will e...</td>\n",
              "      <td>1</td>\n",
              "    </tr>\n",
              "    <tr>\n",
              "      <th>5</th>\n",
              "      <td>A terrible movie as everyone has said. What ma...</td>\n",
              "      <td>0</td>\n",
              "    </tr>\n",
              "    <tr>\n",
              "      <th>6</th>\n",
              "      <td>Finally watched this shocking movie last night...</td>\n",
              "      <td>1</td>\n",
              "    </tr>\n",
              "    <tr>\n",
              "      <th>7</th>\n",
              "      <td>I caught this film on AZN on cable. It sounded...</td>\n",
              "      <td>0</td>\n",
              "    </tr>\n",
              "    <tr>\n",
              "      <th>8</th>\n",
              "      <td>It may be the remake of 1987 Autumn's Tale aft...</td>\n",
              "      <td>1</td>\n",
              "    </tr>\n",
              "    <tr>\n",
              "      <th>9</th>\n",
              "      <td>My Super Ex Girlfriend turned out to be a plea...</td>\n",
              "      <td>1</td>\n",
              "    </tr>\n",
              "  </tbody>\n",
              "</table>\n",
              "</div>\n",
              "    <div class=\"colab-df-buttons\">\n",
              "\n",
              "  <div class=\"colab-df-container\">\n",
              "    <button class=\"colab-df-convert\" onclick=\"convertToInteractive('df-d06e424d-999f-4f53-9ade-00a6b0762fc3')\"\n",
              "            title=\"Convert this dataframe to an interactive table.\"\n",
              "            style=\"display:none;\">\n",
              "\n",
              "  <svg xmlns=\"http://www.w3.org/2000/svg\" height=\"24px\" viewBox=\"0 -960 960 960\">\n",
              "    <path d=\"M120-120v-720h720v720H120Zm60-500h600v-160H180v160Zm220 220h160v-160H400v160Zm0 220h160v-160H400v160ZM180-400h160v-160H180v160Zm440 0h160v-160H620v160ZM180-180h160v-160H180v160Zm440 0h160v-160H620v160Z\"/>\n",
              "  </svg>\n",
              "    </button>\n",
              "\n",
              "  <style>\n",
              "    .colab-df-container {\n",
              "      display:flex;\n",
              "      gap: 12px;\n",
              "    }\n",
              "\n",
              "    .colab-df-convert {\n",
              "      background-color: #E8F0FE;\n",
              "      border: none;\n",
              "      border-radius: 50%;\n",
              "      cursor: pointer;\n",
              "      display: none;\n",
              "      fill: #1967D2;\n",
              "      height: 32px;\n",
              "      padding: 0 0 0 0;\n",
              "      width: 32px;\n",
              "    }\n",
              "\n",
              "    .colab-df-convert:hover {\n",
              "      background-color: #E2EBFA;\n",
              "      box-shadow: 0px 1px 2px rgba(60, 64, 67, 0.3), 0px 1px 3px 1px rgba(60, 64, 67, 0.15);\n",
              "      fill: #174EA6;\n",
              "    }\n",
              "\n",
              "    .colab-df-buttons div {\n",
              "      margin-bottom: 4px;\n",
              "    }\n",
              "\n",
              "    [theme=dark] .colab-df-convert {\n",
              "      background-color: #3B4455;\n",
              "      fill: #D2E3FC;\n",
              "    }\n",
              "\n",
              "    [theme=dark] .colab-df-convert:hover {\n",
              "      background-color: #434B5C;\n",
              "      box-shadow: 0px 1px 3px 1px rgba(0, 0, 0, 0.15);\n",
              "      filter: drop-shadow(0px 1px 2px rgba(0, 0, 0, 0.3));\n",
              "      fill: #FFFFFF;\n",
              "    }\n",
              "  </style>\n",
              "\n",
              "    <script>\n",
              "      const buttonEl =\n",
              "        document.querySelector('#df-d06e424d-999f-4f53-9ade-00a6b0762fc3 button.colab-df-convert');\n",
              "      buttonEl.style.display =\n",
              "        google.colab.kernel.accessAllowed ? 'block' : 'none';\n",
              "\n",
              "      async function convertToInteractive(key) {\n",
              "        const element = document.querySelector('#df-d06e424d-999f-4f53-9ade-00a6b0762fc3');\n",
              "        const dataTable =\n",
              "          await google.colab.kernel.invokeFunction('convertToInteractive',\n",
              "                                                    [key], {});\n",
              "        if (!dataTable) return;\n",
              "\n",
              "        const docLinkHtml = 'Like what you see? Visit the ' +\n",
              "          '<a target=\"_blank\" href=https://colab.research.google.com/notebooks/data_table.ipynb>data table notebook</a>'\n",
              "          + ' to learn more about interactive tables.';\n",
              "        element.innerHTML = '';\n",
              "        dataTable['output_type'] = 'display_data';\n",
              "        await google.colab.output.renderOutput(dataTable, element);\n",
              "        const docLink = document.createElement('div');\n",
              "        docLink.innerHTML = docLinkHtml;\n",
              "        element.appendChild(docLink);\n",
              "      }\n",
              "    </script>\n",
              "  </div>\n",
              "\n",
              "\n",
              "<div id=\"df-9c345659-c394-4820-98e1-c2f309dc291e\">\n",
              "  <button class=\"colab-df-quickchart\" onclick=\"quickchart('df-9c345659-c394-4820-98e1-c2f309dc291e')\"\n",
              "            title=\"Suggest charts\"\n",
              "            style=\"display:none;\">\n",
              "\n",
              "<svg xmlns=\"http://www.w3.org/2000/svg\" height=\"24px\"viewBox=\"0 0 24 24\"\n",
              "     width=\"24px\">\n",
              "    <g>\n",
              "        <path d=\"M19 3H5c-1.1 0-2 .9-2 2v14c0 1.1.9 2 2 2h14c1.1 0 2-.9 2-2V5c0-1.1-.9-2-2-2zM9 17H7v-7h2v7zm4 0h-2V7h2v10zm4 0h-2v-4h2v4z\"/>\n",
              "    </g>\n",
              "</svg>\n",
              "  </button>\n",
              "\n",
              "<style>\n",
              "  .colab-df-quickchart {\n",
              "      --bg-color: #E8F0FE;\n",
              "      --fill-color: #1967D2;\n",
              "      --hover-bg-color: #E2EBFA;\n",
              "      --hover-fill-color: #174EA6;\n",
              "      --disabled-fill-color: #AAA;\n",
              "      --disabled-bg-color: #DDD;\n",
              "  }\n",
              "\n",
              "  [theme=dark] .colab-df-quickchart {\n",
              "      --bg-color: #3B4455;\n",
              "      --fill-color: #D2E3FC;\n",
              "      --hover-bg-color: #434B5C;\n",
              "      --hover-fill-color: #FFFFFF;\n",
              "      --disabled-bg-color: #3B4455;\n",
              "      --disabled-fill-color: #666;\n",
              "  }\n",
              "\n",
              "  .colab-df-quickchart {\n",
              "    background-color: var(--bg-color);\n",
              "    border: none;\n",
              "    border-radius: 50%;\n",
              "    cursor: pointer;\n",
              "    display: none;\n",
              "    fill: var(--fill-color);\n",
              "    height: 32px;\n",
              "    padding: 0;\n",
              "    width: 32px;\n",
              "  }\n",
              "\n",
              "  .colab-df-quickchart:hover {\n",
              "    background-color: var(--hover-bg-color);\n",
              "    box-shadow: 0 1px 2px rgba(60, 64, 67, 0.3), 0 1px 3px 1px rgba(60, 64, 67, 0.15);\n",
              "    fill: var(--button-hover-fill-color);\n",
              "  }\n",
              "\n",
              "  .colab-df-quickchart-complete:disabled,\n",
              "  .colab-df-quickchart-complete:disabled:hover {\n",
              "    background-color: var(--disabled-bg-color);\n",
              "    fill: var(--disabled-fill-color);\n",
              "    box-shadow: none;\n",
              "  }\n",
              "\n",
              "  .colab-df-spinner {\n",
              "    border: 2px solid var(--fill-color);\n",
              "    border-color: transparent;\n",
              "    border-bottom-color: var(--fill-color);\n",
              "    animation:\n",
              "      spin 1s steps(1) infinite;\n",
              "  }\n",
              "\n",
              "  @keyframes spin {\n",
              "    0% {\n",
              "      border-color: transparent;\n",
              "      border-bottom-color: var(--fill-color);\n",
              "      border-left-color: var(--fill-color);\n",
              "    }\n",
              "    20% {\n",
              "      border-color: transparent;\n",
              "      border-left-color: var(--fill-color);\n",
              "      border-top-color: var(--fill-color);\n",
              "    }\n",
              "    30% {\n",
              "      border-color: transparent;\n",
              "      border-left-color: var(--fill-color);\n",
              "      border-top-color: var(--fill-color);\n",
              "      border-right-color: var(--fill-color);\n",
              "    }\n",
              "    40% {\n",
              "      border-color: transparent;\n",
              "      border-right-color: var(--fill-color);\n",
              "      border-top-color: var(--fill-color);\n",
              "    }\n",
              "    60% {\n",
              "      border-color: transparent;\n",
              "      border-right-color: var(--fill-color);\n",
              "    }\n",
              "    80% {\n",
              "      border-color: transparent;\n",
              "      border-right-color: var(--fill-color);\n",
              "      border-bottom-color: var(--fill-color);\n",
              "    }\n",
              "    90% {\n",
              "      border-color: transparent;\n",
              "      border-bottom-color: var(--fill-color);\n",
              "    }\n",
              "  }\n",
              "</style>\n",
              "\n",
              "  <script>\n",
              "    async function quickchart(key) {\n",
              "      const quickchartButtonEl =\n",
              "        document.querySelector('#' + key + ' button');\n",
              "      quickchartButtonEl.disabled = true;  // To prevent multiple clicks.\n",
              "      quickchartButtonEl.classList.add('colab-df-spinner');\n",
              "      try {\n",
              "        const charts = await google.colab.kernel.invokeFunction(\n",
              "            'suggestCharts', [key], {});\n",
              "      } catch (error) {\n",
              "        console.error('Error during call to suggestCharts:', error);\n",
              "      }\n",
              "      quickchartButtonEl.classList.remove('colab-df-spinner');\n",
              "      quickchartButtonEl.classList.add('colab-df-quickchart-complete');\n",
              "    }\n",
              "    (() => {\n",
              "      let quickchartButtonEl =\n",
              "        document.querySelector('#df-9c345659-c394-4820-98e1-c2f309dc291e button');\n",
              "      quickchartButtonEl.style.display =\n",
              "        google.colab.kernel.accessAllowed ? 'block' : 'none';\n",
              "    })();\n",
              "  </script>\n",
              "</div>\n",
              "\n",
              "    </div>\n",
              "  </div>\n"
            ],
            "application/vnd.google.colaboratory.intrinsic+json": {
              "type": "dataframe",
              "variable_name": "data_df",
              "summary": "{\n  \"name\": \"data_df\",\n  \"rows\": 40000,\n  \"fields\": [\n    {\n      \"column\": \"text\",\n      \"properties\": {\n        \"dtype\": \"string\",\n        \"num_unique_values\": 39723,\n        \"samples\": [\n          \"There are similarities between Ray Lawrence's \\\"Jindabyne\\\" and his last movie \\\"Lantana\\\" \\u0096 a dead body and its repercussions for already dysfunctional lives. But whereas \\\"Lantana\\\" offered some hope and resolution, \\\"Jindabyne\\\" leaves everything unresolved in a bleak way that will leave most viewers unsatisfied, perhaps even cheated.<br /><br />The storyline - the aftermath of a fisherman's discovery of a corpse floating in a remote river - is based on a short story by Raymond Carver. It became an element in Robert Altman's classic 1993 ensemble \\\"Short Cuts\\\". Lawrence uses this theme for an exploration and exposition of relationships within a small Australian community under stress. The movie poses some moral questions \\\"Would you let the discovery of a dead body ruin your good weekend?\\\" and more poignantly for Australians \\\"Would it make any difference if the dead person was an aboriginal?\\\" The acting, especially by Gabriel Byrne and Laura Linney, is commendable. And there are elements of mysticism reinforced by haunting music, not unlike \\\"Picnic at Hanging Rock\\\".<br /><br />If all this sounds like the basis for a great movie - be prepared for a let down, the pace is very slow and the murder is shown near the beginning, thereby eliminating the element of mystery. And so we are left with these desolate lives and a blank finale.\",\n          \"Hammer House of Horror: Witching Time is set in rural England on Woodstock farm where stressed musician David Winter (Jon Finch) lives with his actress wife Mary (Prunella Gee) & is currently composing the music for a horror film. One night while looking for his dog Billy David finds a mysterious woman in his barn, calling herself Lucinda Jessop (Patricia Quinn) she claims to be a witch who has transported herself from 300 years in the past to now. Obviously rather sceptical David has a hard time believing her so he locks her in a room in his farmhouse & calls his doctor Charles (Ian McCulloch) to come examine her, however once he arrives & they enter the room Lucinda has disappeared. Charles puts it down to David drinking too much but over the next few day strange & disturbing things begin to happen to David & Mary...<br /><br />Witching Time was episode 1 from the short lived British anthology horror series produced by Hammer studios for TV & originally aired here in the UK during September 1980, the first of two Hammer House of Horror episodes to be directed by Don Leaver (episode 13 The Mark of Satan being the other) I actually rather liked this. As a series Hammer House of Horror dealt with various different themes & were all unconnected to each other except in name & unsurprisingly Watching Time is a sinister & effective little tale about a witch, the script by Anthony Read benefits from it's slight 50 odd minute duration & moves along at a nice pace. The character's are pretty good as is the dialogue, there are some nice scenes here & I liked the way it never quite reveals whether David & Mary are going crazy or not. I think it's a well structured, entertaining & reasonably creepy horror themed TV show that I enjoyed more than I thought I would.<br /><br />Being made for British TV meant the boys at Hammer had a lower budget than usual, if that was even possible, & as such there is no gorgeous period settings here as in their most well know Frankenstein & Dracula films although the contemporary English setting does give it a certain atmosphere that you can relate to a bit more. Another TV based restriction is that the exploitation levels are lower than you might hope for, there's some nudity & gore but not much although I didn't mind too much as the story here is pretty good. It's well made for what it is & Hammer's experience on their feature films probably helped make these look pretty good, the acting is good as well with genre favourite Ian McCulloch making a bit-part appearance.<br /><br />Witching Time is a good start to the Hammer House of Horror series, as a 50 minute piece of British TV it's pretty damned good, now why don't they make show's like this over here anymore?\",\n          \"What a great cast for this movie. The timing was excellent and there were so many clever lines-several times I was still laughing minutes after they were delivered. I found Manna From Heaven to have some surprising moments and while there were things I was thinking would happen, the way they came together was anything but predictable. This movie is about hope and righting wrongs. I left the theater feeling inspired to do the right thing. Bravo to the Five Sisters.\"\n        ],\n        \"semantic_type\": \"\",\n        \"description\": \"\"\n      }\n    },\n    {\n      \"column\": \"label\",\n      \"properties\": {\n        \"dtype\": \"number\",\n        \"std\": 0,\n        \"min\": 0,\n        \"max\": 1,\n        \"num_unique_values\": 2,\n        \"samples\": [\n          1,\n          0\n        ],\n        \"semantic_type\": \"\",\n        \"description\": \"\"\n      }\n    }\n  ]\n}"
            }
          },
          "metadata": {},
          "execution_count": 10
        }
      ]
    },
    {
      "cell_type": "markdown",
      "source": [
        "## **Codificación de las etiquetas**"
      ],
      "metadata": {
        "id": "sDUcHDSPMYq5"
      }
    },
    {
      "cell_type": "code",
      "source": [
        "from sklearn import preprocessing\n",
        "label_encoder = preprocessing.LabelEncoder()"
      ],
      "metadata": {
        "id": "31_m9Oncnu3F"
      },
      "execution_count": 11,
      "outputs": []
    },
    {
      "cell_type": "code",
      "source": [
        "data_df.dropna(inplace = True)\n",
        "data_df.drop_duplicates(inplace = True)\n",
        "data_df = data_df.drop(columns=data_df.columns[[0, 1]])\n",
        "new_column_names = ['label', 'text']\n",
        "data_df.columns = new_column_names\n",
        "data_df = data_df.loc[data_df['label'] != 'Irrelevant'].copy()\n",
        "data_df['label'] = label_encoder.fit_transform(data_df['label'])\n",
        "print(len(data_df))"
      ],
      "metadata": {
        "id": "wgfXacq3nygr"
      },
      "execution_count": null,
      "outputs": []
    },
    {
      "cell_type": "code",
      "source": [
        "data_df.head()"
      ],
      "metadata": {
        "colab": {
          "base_uri": "https://localhost:8080/",
          "height": 206
        },
        "id": "s6HPRwQen0Aa",
        "outputId": "d502e78e-1d79-4b22-cf1c-836687866d97"
      },
      "execution_count": 12,
      "outputs": [
        {
          "output_type": "execute_result",
          "data": {
            "text/plain": [
              "                                                text  label\n",
              "0  I grew up (b. 1965) watching and loving the Th...      0\n",
              "1  When I put this movie in my DVD player, and sa...      0\n",
              "2  Why do people who do not know what a particula...      0\n",
              "3  Even though I have great interest in Biblical ...      0\n",
              "4  Im a die hard Dads Army fan and nothing will e...      1"
            ],
            "text/html": [
              "\n",
              "  <div id=\"df-6b990759-4389-4f1e-98f4-eb11daec86c0\" class=\"colab-df-container\">\n",
              "    <div>\n",
              "<style scoped>\n",
              "    .dataframe tbody tr th:only-of-type {\n",
              "        vertical-align: middle;\n",
              "    }\n",
              "\n",
              "    .dataframe tbody tr th {\n",
              "        vertical-align: top;\n",
              "    }\n",
              "\n",
              "    .dataframe thead th {\n",
              "        text-align: right;\n",
              "    }\n",
              "</style>\n",
              "<table border=\"1\" class=\"dataframe\">\n",
              "  <thead>\n",
              "    <tr style=\"text-align: right;\">\n",
              "      <th></th>\n",
              "      <th>text</th>\n",
              "      <th>label</th>\n",
              "    </tr>\n",
              "  </thead>\n",
              "  <tbody>\n",
              "    <tr>\n",
              "      <th>0</th>\n",
              "      <td>I grew up (b. 1965) watching and loving the Th...</td>\n",
              "      <td>0</td>\n",
              "    </tr>\n",
              "    <tr>\n",
              "      <th>1</th>\n",
              "      <td>When I put this movie in my DVD player, and sa...</td>\n",
              "      <td>0</td>\n",
              "    </tr>\n",
              "    <tr>\n",
              "      <th>2</th>\n",
              "      <td>Why do people who do not know what a particula...</td>\n",
              "      <td>0</td>\n",
              "    </tr>\n",
              "    <tr>\n",
              "      <th>3</th>\n",
              "      <td>Even though I have great interest in Biblical ...</td>\n",
              "      <td>0</td>\n",
              "    </tr>\n",
              "    <tr>\n",
              "      <th>4</th>\n",
              "      <td>Im a die hard Dads Army fan and nothing will e...</td>\n",
              "      <td>1</td>\n",
              "    </tr>\n",
              "  </tbody>\n",
              "</table>\n",
              "</div>\n",
              "    <div class=\"colab-df-buttons\">\n",
              "\n",
              "  <div class=\"colab-df-container\">\n",
              "    <button class=\"colab-df-convert\" onclick=\"convertToInteractive('df-6b990759-4389-4f1e-98f4-eb11daec86c0')\"\n",
              "            title=\"Convert this dataframe to an interactive table.\"\n",
              "            style=\"display:none;\">\n",
              "\n",
              "  <svg xmlns=\"http://www.w3.org/2000/svg\" height=\"24px\" viewBox=\"0 -960 960 960\">\n",
              "    <path d=\"M120-120v-720h720v720H120Zm60-500h600v-160H180v160Zm220 220h160v-160H400v160Zm0 220h160v-160H400v160ZM180-400h160v-160H180v160Zm440 0h160v-160H620v160ZM180-180h160v-160H180v160Zm440 0h160v-160H620v160Z\"/>\n",
              "  </svg>\n",
              "    </button>\n",
              "\n",
              "  <style>\n",
              "    .colab-df-container {\n",
              "      display:flex;\n",
              "      gap: 12px;\n",
              "    }\n",
              "\n",
              "    .colab-df-convert {\n",
              "      background-color: #E8F0FE;\n",
              "      border: none;\n",
              "      border-radius: 50%;\n",
              "      cursor: pointer;\n",
              "      display: none;\n",
              "      fill: #1967D2;\n",
              "      height: 32px;\n",
              "      padding: 0 0 0 0;\n",
              "      width: 32px;\n",
              "    }\n",
              "\n",
              "    .colab-df-convert:hover {\n",
              "      background-color: #E2EBFA;\n",
              "      box-shadow: 0px 1px 2px rgba(60, 64, 67, 0.3), 0px 1px 3px 1px rgba(60, 64, 67, 0.15);\n",
              "      fill: #174EA6;\n",
              "    }\n",
              "\n",
              "    .colab-df-buttons div {\n",
              "      margin-bottom: 4px;\n",
              "    }\n",
              "\n",
              "    [theme=dark] .colab-df-convert {\n",
              "      background-color: #3B4455;\n",
              "      fill: #D2E3FC;\n",
              "    }\n",
              "\n",
              "    [theme=dark] .colab-df-convert:hover {\n",
              "      background-color: #434B5C;\n",
              "      box-shadow: 0px 1px 3px 1px rgba(0, 0, 0, 0.15);\n",
              "      filter: drop-shadow(0px 1px 2px rgba(0, 0, 0, 0.3));\n",
              "      fill: #FFFFFF;\n",
              "    }\n",
              "  </style>\n",
              "\n",
              "    <script>\n",
              "      const buttonEl =\n",
              "        document.querySelector('#df-6b990759-4389-4f1e-98f4-eb11daec86c0 button.colab-df-convert');\n",
              "      buttonEl.style.display =\n",
              "        google.colab.kernel.accessAllowed ? 'block' : 'none';\n",
              "\n",
              "      async function convertToInteractive(key) {\n",
              "        const element = document.querySelector('#df-6b990759-4389-4f1e-98f4-eb11daec86c0');\n",
              "        const dataTable =\n",
              "          await google.colab.kernel.invokeFunction('convertToInteractive',\n",
              "                                                    [key], {});\n",
              "        if (!dataTable) return;\n",
              "\n",
              "        const docLinkHtml = 'Like what you see? Visit the ' +\n",
              "          '<a target=\"_blank\" href=https://colab.research.google.com/notebooks/data_table.ipynb>data table notebook</a>'\n",
              "          + ' to learn more about interactive tables.';\n",
              "        element.innerHTML = '';\n",
              "        dataTable['output_type'] = 'display_data';\n",
              "        await google.colab.output.renderOutput(dataTable, element);\n",
              "        const docLink = document.createElement('div');\n",
              "        docLink.innerHTML = docLinkHtml;\n",
              "        element.appendChild(docLink);\n",
              "      }\n",
              "    </script>\n",
              "  </div>\n",
              "\n",
              "\n",
              "<div id=\"df-d49b1d25-6d84-48c0-bed9-0a0e5a996f9d\">\n",
              "  <button class=\"colab-df-quickchart\" onclick=\"quickchart('df-d49b1d25-6d84-48c0-bed9-0a0e5a996f9d')\"\n",
              "            title=\"Suggest charts\"\n",
              "            style=\"display:none;\">\n",
              "\n",
              "<svg xmlns=\"http://www.w3.org/2000/svg\" height=\"24px\"viewBox=\"0 0 24 24\"\n",
              "     width=\"24px\">\n",
              "    <g>\n",
              "        <path d=\"M19 3H5c-1.1 0-2 .9-2 2v14c0 1.1.9 2 2 2h14c1.1 0 2-.9 2-2V5c0-1.1-.9-2-2-2zM9 17H7v-7h2v7zm4 0h-2V7h2v10zm4 0h-2v-4h2v4z\"/>\n",
              "    </g>\n",
              "</svg>\n",
              "  </button>\n",
              "\n",
              "<style>\n",
              "  .colab-df-quickchart {\n",
              "      --bg-color: #E8F0FE;\n",
              "      --fill-color: #1967D2;\n",
              "      --hover-bg-color: #E2EBFA;\n",
              "      --hover-fill-color: #174EA6;\n",
              "      --disabled-fill-color: #AAA;\n",
              "      --disabled-bg-color: #DDD;\n",
              "  }\n",
              "\n",
              "  [theme=dark] .colab-df-quickchart {\n",
              "      --bg-color: #3B4455;\n",
              "      --fill-color: #D2E3FC;\n",
              "      --hover-bg-color: #434B5C;\n",
              "      --hover-fill-color: #FFFFFF;\n",
              "      --disabled-bg-color: #3B4455;\n",
              "      --disabled-fill-color: #666;\n",
              "  }\n",
              "\n",
              "  .colab-df-quickchart {\n",
              "    background-color: var(--bg-color);\n",
              "    border: none;\n",
              "    border-radius: 50%;\n",
              "    cursor: pointer;\n",
              "    display: none;\n",
              "    fill: var(--fill-color);\n",
              "    height: 32px;\n",
              "    padding: 0;\n",
              "    width: 32px;\n",
              "  }\n",
              "\n",
              "  .colab-df-quickchart:hover {\n",
              "    background-color: var(--hover-bg-color);\n",
              "    box-shadow: 0 1px 2px rgba(60, 64, 67, 0.3), 0 1px 3px 1px rgba(60, 64, 67, 0.15);\n",
              "    fill: var(--button-hover-fill-color);\n",
              "  }\n",
              "\n",
              "  .colab-df-quickchart-complete:disabled,\n",
              "  .colab-df-quickchart-complete:disabled:hover {\n",
              "    background-color: var(--disabled-bg-color);\n",
              "    fill: var(--disabled-fill-color);\n",
              "    box-shadow: none;\n",
              "  }\n",
              "\n",
              "  .colab-df-spinner {\n",
              "    border: 2px solid var(--fill-color);\n",
              "    border-color: transparent;\n",
              "    border-bottom-color: var(--fill-color);\n",
              "    animation:\n",
              "      spin 1s steps(1) infinite;\n",
              "  }\n",
              "\n",
              "  @keyframes spin {\n",
              "    0% {\n",
              "      border-color: transparent;\n",
              "      border-bottom-color: var(--fill-color);\n",
              "      border-left-color: var(--fill-color);\n",
              "    }\n",
              "    20% {\n",
              "      border-color: transparent;\n",
              "      border-left-color: var(--fill-color);\n",
              "      border-top-color: var(--fill-color);\n",
              "    }\n",
              "    30% {\n",
              "      border-color: transparent;\n",
              "      border-left-color: var(--fill-color);\n",
              "      border-top-color: var(--fill-color);\n",
              "      border-right-color: var(--fill-color);\n",
              "    }\n",
              "    40% {\n",
              "      border-color: transparent;\n",
              "      border-right-color: var(--fill-color);\n",
              "      border-top-color: var(--fill-color);\n",
              "    }\n",
              "    60% {\n",
              "      border-color: transparent;\n",
              "      border-right-color: var(--fill-color);\n",
              "    }\n",
              "    80% {\n",
              "      border-color: transparent;\n",
              "      border-right-color: var(--fill-color);\n",
              "      border-bottom-color: var(--fill-color);\n",
              "    }\n",
              "    90% {\n",
              "      border-color: transparent;\n",
              "      border-bottom-color: var(--fill-color);\n",
              "    }\n",
              "  }\n",
              "</style>\n",
              "\n",
              "  <script>\n",
              "    async function quickchart(key) {\n",
              "      const quickchartButtonEl =\n",
              "        document.querySelector('#' + key + ' button');\n",
              "      quickchartButtonEl.disabled = true;  // To prevent multiple clicks.\n",
              "      quickchartButtonEl.classList.add('colab-df-spinner');\n",
              "      try {\n",
              "        const charts = await google.colab.kernel.invokeFunction(\n",
              "            'suggestCharts', [key], {});\n",
              "      } catch (error) {\n",
              "        console.error('Error during call to suggestCharts:', error);\n",
              "      }\n",
              "      quickchartButtonEl.classList.remove('colab-df-spinner');\n",
              "      quickchartButtonEl.classList.add('colab-df-quickchart-complete');\n",
              "    }\n",
              "    (() => {\n",
              "      let quickchartButtonEl =\n",
              "        document.querySelector('#df-d49b1d25-6d84-48c0-bed9-0a0e5a996f9d button');\n",
              "      quickchartButtonEl.style.display =\n",
              "        google.colab.kernel.accessAllowed ? 'block' : 'none';\n",
              "    })();\n",
              "  </script>\n",
              "</div>\n",
              "\n",
              "    </div>\n",
              "  </div>\n"
            ],
            "application/vnd.google.colaboratory.intrinsic+json": {
              "type": "dataframe",
              "variable_name": "data_df",
              "summary": "{\n  \"name\": \"data_df\",\n  \"rows\": 40000,\n  \"fields\": [\n    {\n      \"column\": \"text\",\n      \"properties\": {\n        \"dtype\": \"string\",\n        \"num_unique_values\": 39723,\n        \"samples\": [\n          \"There are similarities between Ray Lawrence's \\\"Jindabyne\\\" and his last movie \\\"Lantana\\\" \\u0096 a dead body and its repercussions for already dysfunctional lives. But whereas \\\"Lantana\\\" offered some hope and resolution, \\\"Jindabyne\\\" leaves everything unresolved in a bleak way that will leave most viewers unsatisfied, perhaps even cheated.<br /><br />The storyline - the aftermath of a fisherman's discovery of a corpse floating in a remote river - is based on a short story by Raymond Carver. It became an element in Robert Altman's classic 1993 ensemble \\\"Short Cuts\\\". Lawrence uses this theme for an exploration and exposition of relationships within a small Australian community under stress. The movie poses some moral questions \\\"Would you let the discovery of a dead body ruin your good weekend?\\\" and more poignantly for Australians \\\"Would it make any difference if the dead person was an aboriginal?\\\" The acting, especially by Gabriel Byrne and Laura Linney, is commendable. And there are elements of mysticism reinforced by haunting music, not unlike \\\"Picnic at Hanging Rock\\\".<br /><br />If all this sounds like the basis for a great movie - be prepared for a let down, the pace is very slow and the murder is shown near the beginning, thereby eliminating the element of mystery. And so we are left with these desolate lives and a blank finale.\",\n          \"Hammer House of Horror: Witching Time is set in rural England on Woodstock farm where stressed musician David Winter (Jon Finch) lives with his actress wife Mary (Prunella Gee) & is currently composing the music for a horror film. One night while looking for his dog Billy David finds a mysterious woman in his barn, calling herself Lucinda Jessop (Patricia Quinn) she claims to be a witch who has transported herself from 300 years in the past to now. Obviously rather sceptical David has a hard time believing her so he locks her in a room in his farmhouse & calls his doctor Charles (Ian McCulloch) to come examine her, however once he arrives & they enter the room Lucinda has disappeared. Charles puts it down to David drinking too much but over the next few day strange & disturbing things begin to happen to David & Mary...<br /><br />Witching Time was episode 1 from the short lived British anthology horror series produced by Hammer studios for TV & originally aired here in the UK during September 1980, the first of two Hammer House of Horror episodes to be directed by Don Leaver (episode 13 The Mark of Satan being the other) I actually rather liked this. As a series Hammer House of Horror dealt with various different themes & were all unconnected to each other except in name & unsurprisingly Watching Time is a sinister & effective little tale about a witch, the script by Anthony Read benefits from it's slight 50 odd minute duration & moves along at a nice pace. The character's are pretty good as is the dialogue, there are some nice scenes here & I liked the way it never quite reveals whether David & Mary are going crazy or not. I think it's a well structured, entertaining & reasonably creepy horror themed TV show that I enjoyed more than I thought I would.<br /><br />Being made for British TV meant the boys at Hammer had a lower budget than usual, if that was even possible, & as such there is no gorgeous period settings here as in their most well know Frankenstein & Dracula films although the contemporary English setting does give it a certain atmosphere that you can relate to a bit more. Another TV based restriction is that the exploitation levels are lower than you might hope for, there's some nudity & gore but not much although I didn't mind too much as the story here is pretty good. It's well made for what it is & Hammer's experience on their feature films probably helped make these look pretty good, the acting is good as well with genre favourite Ian McCulloch making a bit-part appearance.<br /><br />Witching Time is a good start to the Hammer House of Horror series, as a 50 minute piece of British TV it's pretty damned good, now why don't they make show's like this over here anymore?\",\n          \"What a great cast for this movie. The timing was excellent and there were so many clever lines-several times I was still laughing minutes after they were delivered. I found Manna From Heaven to have some surprising moments and while there were things I was thinking would happen, the way they came together was anything but predictable. This movie is about hope and righting wrongs. I left the theater feeling inspired to do the right thing. Bravo to the Five Sisters.\"\n        ],\n        \"semantic_type\": \"\",\n        \"description\": \"\"\n      }\n    },\n    {\n      \"column\": \"label\",\n      \"properties\": {\n        \"dtype\": \"number\",\n        \"std\": 0,\n        \"min\": 0,\n        \"max\": 1,\n        \"num_unique_values\": 2,\n        \"samples\": [\n          1,\n          0\n        ],\n        \"semantic_type\": \"\",\n        \"description\": \"\"\n      }\n    }\n  ]\n}"
            }
          },
          "metadata": {},
          "execution_count": 12
        }
      ]
    },
    {
      "cell_type": "markdown",
      "source": [
        "## **Estadísticas de la variable Label**"
      ],
      "metadata": {
        "id": "5Dgx8YycMeKR"
      }
    },
    {
      "cell_type": "code",
      "source": [
        "emotions_count = data_df['label'].value_counts()\n",
        "plt.bar(list(emotions_count.keys()), list(emotions_count), color='teal')\n",
        "plt.xlabel(\"Sentiment\",)\n",
        "plt.ylabel('Count')\n",
        "plt.title('Emotions Count')\n",
        "plt.show()\n",
        "print(list(emotions_count))"
      ],
      "metadata": {
        "colab": {
          "base_uri": "https://localhost:8080/",
          "height": 489
        },
        "id": "1_0YZRzun2Ob",
        "outputId": "ded2d969-0d02-4eee-d0f4-8641d69071e8"
      },
      "execution_count": 13,
      "outputs": [
        {
          "output_type": "display_data",
          "data": {
            "text/plain": [
              "<Figure size 640x480 with 1 Axes>"
            ],
            "image/png": "[encoded data removed]"
          },
          "metadata": {}
        },
        {
          "output_type": "stream",
          "name": "stdout",
          "text": [
            "[20019, 19981]\n"
          ]
        }
      ]
    },
    {
      "cell_type": "markdown",
      "source": [
        "## **Stopwords**"
      ],
      "metadata": {
        "id": "Cf1G_opVMjpQ"
      }
    },
    {
      "cell_type": "code",
      "source": [
        "nltk.download('stopwords')\n",
        "stop_words = stopwords.words(\"english\")\n",
        "stemmer = SnowballStemmer(\"english\")\n",
        "\n",
        "def clean_text(text, stem=True):\n",
        "    text = re.sub(r'http\\S+|www\\S+|https\\S+', '', text, flags=re.MULTILINE)\n",
        "    text = re.sub(r'[^A-Za-z\\s]', '', text)\n",
        "    text = re.sub(r'\\s+', ' ', text).strip()\n",
        "    text = text.lower()\n",
        "    tokens = []\n",
        "    for token in text.split():\n",
        "        if token not in stop_words:\n",
        "            if stem:\n",
        "                tokens.append(stemmer.stem(token))\n",
        "            else:\n",
        "                tokens.append(token)\n",
        "    return text\n",
        "\n",
        "\n",
        "\n",
        "tokenizer = get_tokenizer('basic_english')\n",
        "train_data = data_df['text'].apply(clean_text).apply(tokenizer)\n",
        "data_df['tokens'] = train_data\n",
        "print(data_df['tokens'][:4])\n",
        "print(data_df['label'][:4])"
      ],
      "metadata": {
        "colab": {
          "base_uri": "https://localhost:8080/"
        },
        "id": "T7zzLjTAn4qo",
        "outputId": "36ea77fd-8373-4c5c-e31b-68c7d62b3fe9"
      },
      "execution_count": 14,
      "outputs": [
        {
          "output_type": "stream",
          "name": "stderr",
          "text": [
            "[nltk_data] Downloading package stopwords to /root/nltk_data...\n",
            "[nltk_data]   Unzipping corpora/stopwords.zip.\n"
          ]
        },
        {
          "output_type": "stream",
          "name": "stdout",
          "text": [
            "0    [i, grew, up, b, watching, and, loving, the, t...\n",
            "1    [when, i, put, this, movie, in, my, dvd, playe...\n",
            "2    [why, do, people, who, do, not, know, what, a,...\n",
            "3    [even, though, i, have, great, interest, in, b...\n",
            "Name: tokens, dtype: object\n",
            "0    0\n",
            "1    0\n",
            "2    0\n",
            "3    0\n",
            "Name: label, dtype: int64\n"
          ]
        }
      ]
    },
    {
      "cell_type": "markdown",
      "source": [
        "## **División del set de entrenamiento y set de validación**"
      ],
      "metadata": {
        "id": "OlL6DxgCMmie"
      }
    },
    {
      "cell_type": "code",
      "source": [
        "from sklearn.model_selection import train_test_split\n",
        "\n",
        "train_df, test_df = train_test_split(data_df, test_size=0.2, shuffle=True, random_state = 123)\n",
        "print(train_df['label'].value_counts())\n",
        "print(test_df['label'].value_counts())"
      ],
      "metadata": {
        "colab": {
          "base_uri": "https://localhost:8080/"
        },
        "id": "HH8tRUy6n8fq",
        "outputId": "17d3cfbb-4c98-455e-ad20-6ded2da579e6"
      },
      "execution_count": 15,
      "outputs": [
        {
          "output_type": "stream",
          "name": "stdout",
          "text": [
            "label\n",
            "0    16021\n",
            "1    15979\n",
            "Name: count, dtype: int64\n",
            "label\n",
            "1    4002\n",
            "0    3998\n",
            "Name: count, dtype: int64\n"
          ]
        }
      ]
    },
    {
      "cell_type": "markdown",
      "source": [
        "## **Procesamiento del Dataset**"
      ],
      "metadata": {
        "id": "VF5JFgKKMs5-"
      }
    },
    {
      "cell_type": "code",
      "source": [
        "def build_vocab(texts):\n",
        "        all_tokens = [token for text in texts for token in text]\n",
        "        vocab = {token: idx for idx, token in enumerate(set(all_tokens))}\n",
        "        vocab['<pad>'] = len(vocab)\n",
        "        print(f\"Vocabulary Length is: {len(vocab)}\")\n",
        "        return vocab, len(vocab)\n",
        "\n",
        "vocab, VOCAB_SIZE = build_vocab(train_data)"
      ],
      "metadata": {
        "colab": {
          "base_uri": "https://localhost:8080/"
        },
        "id": "YajcIf8foEyq",
        "outputId": "229fc325-94a3-4036-aa7f-3808c5f25c24"
      },
      "execution_count": 16,
      "outputs": [
        {
          "output_type": "stream",
          "name": "stdout",
          "text": [
            "Vocabulary Length is: 155308\n"
          ]
        }
      ]
    },
    {
      "cell_type": "code",
      "source": [
        "BATCH_SIZE = 32\n",
        "HIDDEN_DIM = 256\n",
        "MAX_LEN = 50\n",
        "EMBED_DIM = 128\n",
        "pad_index = vocab[\"<pad>\"]"
      ],
      "metadata": {
        "id": "3aRgRk26oH6C"
      },
      "execution_count": 17,
      "outputs": []
    },
    {
      "cell_type": "code",
      "source": [
        "class TextDataset(Dataset):\n",
        "    def __init__(self, texts, labels, vocab=None, max_len = MAX_LEN, pad_token = '<pad>'):\n",
        "        self.texts = texts\n",
        "        self.pad_token = pad_token\n",
        "        self.max_length = max_len\n",
        "        self.labels = labels\n",
        "        self.vocab = vocab\n",
        "\n",
        "    def text_to_tensor(self, text):\n",
        "        text_indices = [self.vocab.get(token) for token in text]\n",
        "\n",
        "        if len(text_indices) < self.max_length:\n",
        "            text_indices = text_indices + [self.vocab[self.pad_token]] * (self.max_length - len(text_indices))\n",
        "        else:\n",
        "            text_indices = text_indices[:self.max_length]\n",
        "        return torch.tensor(text_indices, dtype=torch.long)\n",
        "\n",
        "    def label_to_tensor(self, label):\n",
        "        return torch.tensor(label, dtype=torch.long)\n",
        "\n",
        "    def __len__(self):\n",
        "        return len(self.texts)\n",
        "\n",
        "    def __getitem__(self, idx):\n",
        "        text = self.texts[idx]\n",
        "        label = self.labels[idx]\n",
        "        return self.text_to_tensor(text), self.label_to_tensor(label)\n",
        "\n",
        "train_dataset = TextDataset(train_df['tokens'].tolist(), train_df['label'].tolist(), vocab = vocab)\n",
        "test_dataset = TextDataset(test_df['tokens'].tolist(), test_df['label'].tolist(), vocab = vocab)\n",
        "\n",
        "for text_tensor, label_tensor in test_dataset:\n",
        "    print(f\"text_tensor: {text_tensor}\")\n",
        "    print(f\"label_tensor: {label_tensor}\")\n",
        "    tokenized_tensor = text_tensor\n",
        "    break"
      ],
      "metadata": {
        "colab": {
          "base_uri": "https://localhost:8080/"
        },
        "id": "8nGPORkboKZx",
        "outputId": "6cbfb363-7b6e-4c38-837a-4edb30b61a18"
      },
      "execution_count": 18,
      "outputs": [
        {
          "output_type": "stream",
          "name": "stdout",
          "text": [
            "text_tensor: tensor([  9828,  76466, 117427, 145105,  90299,  24467,  55327,   3913, 138926,\n",
            "         31366, 117427, 112436,  72992,  66752,  71832,  31022,  94944, 110669,\n",
            "         33766, 151780,  82569, 151164,  79474, 123627,   9828,  94776, 148728,\n",
            "         54680,  66476,  71266,  84468,  41526, 123320, 143041,  40017, 111247,\n",
            "         15449,  93508, 121984,  31366, 122065,  40017,  31366,  70476, 111247,\n",
            "         60116,   2497, 145176,  66752,  29883])\n",
            "label_tensor: 1\n"
          ]
        }
      ]
    },
    {
      "cell_type": "code",
      "source": [
        "reverse_vocab = {v: k for k, v in vocab.items()}\n",
        "\n",
        "# Function to convert tensor to sentence\n",
        "def tensor_to_sentence(tensor):\n",
        "    tokens = [reverse_vocab[idx.item()] for idx in tensor if idx.item() in reverse_vocab]\n",
        "    return ' '.join(tokens)\n",
        "\n",
        "print(tensor_to_sentence(tokenized_tensor))"
      ],
      "metadata": {
        "colab": {
          "base_uri": "https://localhost:8080/"
        },
        "id": "INRE705aoN5F",
        "outputId": "579c2d44-efc3-470a-8569-38cac1ffeb7c"
      },
      "execution_count": 19,
      "outputs": [
        {
          "output_type": "stream",
          "name": "stdout",
          "text": [
            "this is the first must see film ive seen in the last year its wickedly funny incredibly original unbelievably great looking they went for this super cool widescreen technicolor look thats awesome to behold and it actually has depth in character and in what it says about society its really\n"
          ]
        }
      ]
    },
    {
      "cell_type": "code",
      "source": [
        "device = ('cuda'\n",
        "          if torch.cuda.is_available()\n",
        "          else \"mps\"\n",
        "          if torch.backends.mps.is_available()\n",
        "          else \"cpu\"\n",
        "          )\n",
        "\n",
        "\n",
        "print(f\"Using Device: {device}\")\n",
        "\n",
        "train_dataloader = DataLoader(train_dataset, batch_size = BATCH_SIZE)\n",
        "test_dataloader = DataLoader(test_dataset, batch_size = BATCH_SIZE)\n",
        "\n",
        "n = 0\n",
        "for X, Y in test_dataloader:\n",
        "    n+=1\n",
        "    if n > 5:\n",
        "        break\n",
        "    else:\n",
        "        print(f\"Shape of X: {tensor_to_sentence(X[0])}\")\n",
        "        print(f\"Shape of Y: {Y[0]}\")"
      ],
      "metadata": {
        "colab": {
          "base_uri": "https://localhost:8080/"
        },
        "id": "dizjfr32oQld",
        "outputId": "80ce7177-6f5f-4a05-e07b-c026928e7010"
      },
      "execution_count": 20,
      "outputs": [
        {
          "output_type": "stream",
          "name": "stdout",
          "text": [
            "Using Device: cuda\n",
            "Shape of X: this is the first must see film ive seen in the last year its wickedly funny incredibly original unbelievably great looking they went for this super cool widescreen technicolor look thats awesome to behold and it actually has depth in character and in what it says about society its really\n",
            "Shape of Y: 1\n",
            "Shape of X: i just wanted to inform anyone who may be interested that the the movie new jersey drive was my personal favorite off alltime i admire the work nick gomez and spike lee put into this masterpiece of a movie this movie made quite an impression on me because of its\n",
            "Shape of Y: 1\n",
            "Shape of X: i just saw this cartoon for the first time and recognized the caricatures of famous black entertainers cab calloway bessie smith not josephine baker or sophie tucker who was white thomas fats waller bill bojangles robinson stepin fetchit notwithstanding louis armstrong and the chorus girls are out of the famed\n",
            "Shape of Y: 1\n",
            "Shape of X: my friend bought the movie for its is not even cent worth because they wrote it was like american pie but we would soon find out that there is a long way from american pie to that piece of crap it is not even a comedy its more like a\n",
            "Shape of Y: 0\n",
            "Shape of X: storywise this isnt among the best or most cleverly written columbo movie but the movie is extremely well made with excellent directing and truly fine actingbr br especially the acting within this movie attracts the attention director nicholas colasanto did a great job with the actors in the movie appereantly\n",
            "Shape of Y: 1\n"
          ]
        }
      ]
    },
    {
      "cell_type": "markdown",
      "source": [
        "## **Modelo GRU**"
      ],
      "metadata": {
        "id": "hd3AuFiHMyLa"
      }
    },
    {
      "cell_type": "code",
      "source": [
        "class GRUModel(nn.Module):\n",
        "    def __init__(self):\n",
        "            super().__init__()\n",
        "            self.embedding = nn.Embedding(VOCAB_SIZE, EMBED_DIM)\n",
        "            self.gru = nn.GRU(EMBED_DIM, HIDDEN_DIM, dropout=0.3, batch_first=True)\n",
        "            self.fc = nn.Linear(HIDDEN_DIM, 3)\n",
        "            self.dropout = nn.Dropout(0.3)\n",
        "            self.sigmoid = nn.Sigmoid()\n",
        "            self.no_layers = 1\n",
        "\n",
        "\n",
        "\n",
        "    def forward(self, x, hidden):\n",
        "            batch_size = x.size(0)\n",
        "            embedded = self.embedding(x)\n",
        "            output, hidden = self.gru(embedded)\n",
        "            output = self.dropout(output[:, -1])\n",
        "            output = self.fc(output)\n",
        "\n",
        "\n",
        "            return output, hidden\n",
        "\n",
        "    def init_hidden(self, batch_size):\n",
        "\n",
        "        h0 = torch.zeros((self.no_layers,batch_size,HIDDEN_DIM)).to(device)\n",
        "        c0 = torch.zeros((self.no_layers,batch_size,HIDDEN_DIM)).to(device)\n",
        "        hidden = (h0,c0)\n",
        "        return hidden"
      ],
      "metadata": {
        "id": "RZeici9koV2M"
      },
      "execution_count": 21,
      "outputs": []
    },
    {
      "cell_type": "markdown",
      "source": [
        "## **Modelo RNN**"
      ],
      "metadata": {
        "id": "9gVybIzFNCyB"
      }
    },
    {
      "cell_type": "code",
      "source": [
        "class RNNModel(nn.Module):\n",
        "    def __init__(self):\n",
        "        super().__init__()\n",
        "        self.embedding = nn.Embedding(VOCAB_SIZE, EMBED_DIM)\n",
        "        self.rnn = nn.RNN(EMBED_DIM, HIDDEN_DIM, dropout=0.4, batch_first=True)\n",
        "        self.fc = nn.Linear(HIDDEN_DIM, 3)\n",
        "        self.dropout = nn.Dropout(0.4)\n",
        "        self.sigmoid = nn.Sigmoid()\n",
        "        self.no_layers = 1\n",
        "\n",
        "    def forward(self, x, hidden):\n",
        "        batch_size = x.size(0)\n",
        "        embedded = self.embedding(x)\n",
        "        output, hidden = self.rnn(embedded)\n",
        "        output = self.dropout(output[:, -1])\n",
        "        output = self.fc(output)\n",
        "\n",
        "        return output, hidden\n",
        "\n",
        "    def init_hidden(self, batch_size):\n",
        "\n",
        "        h0 = torch.zeros((self.no_layers,batch_size,HIDDEN_DIM)).to(device)\n",
        "        c0 = torch.zeros((self.no_layers,batch_size,HIDDEN_DIM)).to(device)\n",
        "        hidden = (h0,c0)\n",
        "        return hidden"
      ],
      "metadata": {
        "id": "9-FYPeL5NB3o"
      },
      "execution_count": 22,
      "outputs": []
    },
    {
      "cell_type": "code",
      "source": [
        "gru_model = GRUModel().to(device)\n",
        "rnn_model = RNNModel().to(device)\n",
        "print(gru_model)\n",
        "print('---------------')\n",
        "print(rnn_model)"
      ],
      "metadata": {
        "id": "WPC2AybBNHtf",
        "colab": {
          "base_uri": "https://localhost:8080/"
        },
        "outputId": "e65d37be-bb7f-4164-aabb-5cbce85f6d6c"
      },
      "execution_count": 24,
      "outputs": [
        {
          "output_type": "stream",
          "name": "stderr",
          "text": [
            "/usr/local/lib/python3.10/dist-packages/torch/nn/modules/rnn.py:83: UserWarning: dropout option adds dropout after all but last recurrent layer, so non-zero dropout expects num_layers greater than 1, but got dropout=0.3 and num_layers=1\n",
            "  warnings.warn(\"dropout option adds dropout after all but last \"\n"
          ]
        },
        {
          "output_type": "stream",
          "name": "stdout",
          "text": [
            "GRUModel(\n",
            "  (embedding): Embedding(155308, 128)\n",
            "  (gru): GRU(128, 256, batch_first=True, dropout=0.3)\n",
            "  (fc): Linear(in_features=256, out_features=3, bias=True)\n",
            "  (dropout): Dropout(p=0.3, inplace=False)\n",
            "  (sigmoid): Sigmoid()\n",
            ")\n",
            "---------------\n",
            "RNNModel(\n",
            "  (embedding): Embedding(155308, 128)\n",
            "  (rnn): RNN(128, 256, batch_first=True, dropout=0.4)\n",
            "  (fc): Linear(in_features=256, out_features=3, bias=True)\n",
            "  (dropout): Dropout(p=0.4, inplace=False)\n",
            "  (sigmoid): Sigmoid()\n",
            ")\n"
          ]
        },
        {
          "output_type": "stream",
          "name": "stderr",
          "text": [
            "/usr/local/lib/python3.10/dist-packages/torch/nn/modules/rnn.py:83: UserWarning: dropout option adds dropout after all but last recurrent layer, so non-zero dropout expects num_layers greater than 1, but got dropout=0.4 and num_layers=1\n",
            "  warnings.warn(\"dropout option adds dropout after all but last \"\n"
          ]
        }
      ]
    },
    {
      "cell_type": "code",
      "source": [
        "for X, Y in test_dataloader:\n",
        "    X = X.to(device)\n",
        "    Y = Y.to(device)\n",
        "    h = gru_model.init_hidden(BATCH_SIZE)\n",
        "    h = tuple([each.data for each in h])\n",
        "    pred, h = gru_model(X, h)\n",
        "    print(f\"Shape of X: {tensor_to_sentence(X[1])}\")\n",
        "    print(f\"Shape of Y: {Y.shape}\")\n",
        "    print(f\"pred shape: {pred.shape}\")\n",
        "    break"
      ],
      "metadata": {
        "colab": {
          "base_uri": "https://localhost:8080/"
        },
        "id": "H4S06hsKoaMi",
        "outputId": "6c45bc1b-343a-43a9-deae-e6a5356f2cd5"
      },
      "execution_count": 25,
      "outputs": [
        {
          "output_type": "stream",
          "name": "stdout",
          "text": [
            "Shape of X: i remember watching this as a child in the uk mesmerized by the story and laurence oliviers narration we would talk about nothing else at school the next day i imagine the ratings for the first showing were huge this is quite simply the best most comprehensive documentary series despite\n",
            "Shape of Y: torch.Size([32])\n",
            "pred shape: torch.Size([32, 3])\n"
          ]
        }
      ]
    },
    {
      "cell_type": "code",
      "source": [
        "loss_func_rnn = torch.nn.CrossEntropyLoss().to(device)\n",
        "loss_func_gru = torch.nn.CrossEntropyLoss().to(device)\n",
        "optimizer_gru = torch.optim.Adam(gru_model.parameters(), lr=1e-3)\n",
        "optimizer_rnn = torch.optim.Adam(rnn_model.parameters(), lr=1e-3)"
      ],
      "metadata": {
        "id": "uN2EtU_loctA"
      },
      "execution_count": 26,
      "outputs": []
    },
    {
      "cell_type": "code",
      "source": [
        "def get_accuracy(pred,label):\n",
        "    pred = pred.argmax(1)\n",
        "    return torch.sum(pred == label).item()"
      ],
      "metadata": {
        "id": "sEDE-FDuogX8"
      },
      "execution_count": 27,
      "outputs": []
    },
    {
      "cell_type": "code",
      "source": [
        "CLIP = 1\n",
        "\n",
        "def train(dataloader, model, loss_fn, optimizer, train_losses):\n",
        "    size = len(dataloader.dataset)\n",
        "    model.train()\n",
        "    h = model.init_hidden(BATCH_SIZE)\n",
        "    loss_sum = 0\n",
        "    accuracy = 0\n",
        "    num_batches = len(dataloader)\n",
        "    for batch, (x, y) in enumerate(dataloader):\n",
        "        x, y = x.to(device), y.to(device)\n",
        "        h = tuple([each.data for each in h])\n",
        "        pred, h = model(x, h)\n",
        "        loss = loss_fn(pred, y)\n",
        "        loss_sum += loss.item()\n",
        "        loss.backward()\n",
        "        torch.nn.utils.clip_grad_norm_(model.parameters(), CLIP)\n",
        "        optimizer.step()\n",
        "        optimizer.zero_grad()\n",
        "        accuracy += get_accuracy(pred, y)\n",
        "        if batch % 200 == 0:\n",
        "            loss, current = loss.item(), (batch + 1) * len(x)\n",
        "            print(f\"loss: {loss:>7f} [{current:>5d}/{size:>5d}]\")\n",
        "\n",
        "    mean_loss = loss_sum / num_batches\n",
        "    accuracy /= size\n",
        "    train_losses.append(mean_loss)\n",
        "    print(f\"Training loss: {mean_loss:>7f}\")\n",
        "    print(f\"Training accuracy: {(accuracy*100):>7f}\")"
      ],
      "metadata": {
        "id": "Rm-F7zkDoiBa"
      },
      "execution_count": 28,
      "outputs": []
    },
    {
      "cell_type": "code",
      "source": [
        "def test(dataloader, model, loss_fn, test_losses):\n",
        "    size = len(dataloader.dataset)\n",
        "    num_batches = len(dataloader)\n",
        "    model.eval()\n",
        "    test_loss, accuracy = 0, 0\n",
        "    h = model.init_hidden(BATCH_SIZE)\n",
        "    with torch.no_grad():\n",
        "        for x, y in dataloader:\n",
        "            x, y = x.to(device), y.to(device)\n",
        "            h = tuple([each.data for each in h])\n",
        "            pred, h = model(x, h)\n",
        "            test_loss += loss_fn(pred, y).item()\n",
        "            accuracy += get_accuracy(pred, y)\n",
        "    test_loss /= num_batches\n",
        "    accuracy /= size\n",
        "    print(\"________\")\n",
        "    print(f\"Test loss: {test_loss:>7f}\")\n",
        "    print(f\"Test accuracy: {(accuracy*100):>0.1f}%\")\n",
        "    test_losses.append(test_loss)"
      ],
      "metadata": {
        "id": "jqGar-GQokaf"
      },
      "execution_count": 29,
      "outputs": []
    },
    {
      "cell_type": "markdown",
      "source": [
        "## **Entrenamiento GRU**"
      ],
      "metadata": {
        "id": "9WkG_gQmNL2s"
      }
    },
    {
      "cell_type": "code",
      "source": [
        "train_losses = []\n",
        "test_losses = []\n",
        "\n",
        "for i in range(10):\n",
        "    print(f'Epoch {i} -----------------------------------')\n",
        "    train(train_dataloader, gru_model, loss_func_gru, optimizer_gru, train_losses)\n",
        "    test(test_dataloader, gru_model, loss_func_gru, test_losses)\n",
        "\n",
        "print('Finished Training')"
      ],
      "metadata": {
        "colab": {
          "base_uri": "https://localhost:8080/"
        },
        "id": "rJo0jA-6omSy",
        "outputId": "14704300-32d0-4555-e492-9f26bfc4caa1"
      },
      "execution_count": 30,
      "outputs": [
        {
          "output_type": "stream",
          "name": "stdout",
          "text": [
            "Epoch 0 -----------------------------------\n",
            "loss: 1.083286 [   32/32000]\n",
            "loss: 0.612808 [ 6432/32000]\n",
            "loss: 0.523646 [12832/32000]\n",
            "loss: 0.580631 [19232/32000]\n",
            "loss: 0.528033 [25632/32000]\n",
            "Training loss: 0.592047\n",
            "Training accuracy: 66.303125\n",
            "________\n",
            "Test loss: 0.486104\n",
            "Test accuracy: 75.7%\n",
            "Epoch 1 -----------------------------------\n",
            "loss: 0.585186 [   32/32000]\n",
            "loss: 0.450038 [ 6432/32000]\n",
            "loss: 0.327967 [12832/32000]\n",
            "loss: 0.336284 [19232/32000]\n",
            "loss: 0.342756 [25632/32000]\n",
            "Training loss: 0.407362\n",
            "Training accuracy: 81.278125\n",
            "________\n",
            "Test loss: 0.463235\n",
            "Test accuracy: 77.9%\n",
            "Epoch 2 -----------------------------------\n",
            "loss: 0.389647 [   32/32000]\n",
            "loss: 0.289924 [ 6432/32000]\n",
            "loss: 0.291034 [12832/32000]\n",
            "loss: 0.194567 [19232/32000]\n",
            "loss: 0.143257 [25632/32000]\n",
            "Training loss: 0.280081\n",
            "Training accuracy: 88.446875\n",
            "________\n",
            "Test loss: 0.544250\n",
            "Test accuracy: 77.9%\n",
            "Epoch 3 -----------------------------------\n",
            "loss: 0.237078 [   32/32000]\n",
            "loss: 0.154816 [ 6432/32000]\n",
            "loss: 0.200215 [12832/32000]\n",
            "loss: 0.131049 [19232/32000]\n",
            "loss: 0.061960 [25632/32000]\n",
            "Training loss: 0.161822\n",
            "Training accuracy: 93.984375\n",
            "________\n",
            "Test loss: 0.807585\n",
            "Test accuracy: 77.3%\n",
            "Epoch 4 -----------------------------------\n",
            "loss: 0.056902 [   32/32000]\n",
            "loss: 0.052784 [ 6432/32000]\n",
            "loss: 0.108575 [12832/32000]\n",
            "loss: 0.062203 [19232/32000]\n",
            "loss: 0.055795 [25632/32000]\n",
            "Training loss: 0.079244\n",
            "Training accuracy: 97.362500\n",
            "________\n",
            "Test loss: 1.112771\n",
            "Test accuracy: 76.9%\n",
            "Epoch 5 -----------------------------------\n",
            "loss: 0.034320 [   32/32000]\n",
            "loss: 0.022698 [ 6432/32000]\n",
            "loss: 0.131905 [12832/32000]\n",
            "loss: 0.005751 [19232/32000]\n",
            "loss: 0.012897 [25632/32000]\n",
            "Training loss: 0.043804\n",
            "Training accuracy: 98.515625\n",
            "________\n",
            "Test loss: 1.339517\n",
            "Test accuracy: 76.9%\n",
            "Epoch 6 -----------------------------------\n",
            "loss: 0.017506 [   32/32000]\n",
            "loss: 0.007453 [ 6432/32000]\n",
            "loss: 0.002574 [12832/32000]\n",
            "loss: 0.005328 [19232/32000]\n",
            "loss: 0.000864 [25632/32000]\n",
            "Training loss: 0.027869\n",
            "Training accuracy: 99.171875\n",
            "________\n",
            "Test loss: 1.386925\n",
            "Test accuracy: 77.1%\n",
            "Epoch 7 -----------------------------------\n",
            "loss: 0.000451 [   32/32000]\n",
            "loss: 0.003732 [ 6432/32000]\n",
            "loss: 0.005114 [12832/32000]\n",
            "loss: 0.037312 [19232/32000]\n",
            "loss: 0.011273 [25632/32000]\n",
            "Training loss: 0.021891\n",
            "Training accuracy: 99.306250\n",
            "________\n",
            "Test loss: 1.581425\n",
            "Test accuracy: 77.3%\n",
            "Epoch 8 -----------------------------------\n",
            "loss: 0.006533 [   32/32000]\n",
            "loss: 0.000339 [ 6432/32000]\n",
            "loss: 0.047369 [12832/32000]\n",
            "loss: 0.000555 [19232/32000]\n",
            "loss: 0.000241 [25632/32000]\n",
            "Training loss: 0.017169\n",
            "Training accuracy: 99.468750\n",
            "________\n",
            "Test loss: 1.631021\n",
            "Test accuracy: 76.8%\n",
            "Epoch 9 -----------------------------------\n",
            "loss: 0.000414 [   32/32000]\n",
            "loss: 0.001566 [ 6432/32000]\n",
            "loss: 0.005069 [12832/32000]\n",
            "loss: 0.001957 [19232/32000]\n",
            "loss: 0.000038 [25632/32000]\n",
            "Training loss: 0.014409\n",
            "Training accuracy: 99.512500\n",
            "________\n",
            "Test loss: 1.943703\n",
            "Test accuracy: 76.8%\n",
            "Finished Training\n"
          ]
        }
      ]
    },
    {
      "cell_type": "code",
      "source": [
        "print(train_losses)"
      ],
      "metadata": {
        "colab": {
          "base_uri": "https://localhost:8080/"
        },
        "id": "ToiHSOa2ooGn",
        "outputId": "eda311cd-0bed-42e6-9f3c-8616a44ef098"
      },
      "execution_count": 31,
      "outputs": [
        {
          "output_type": "stream",
          "name": "stdout",
          "text": [
            "[0.5920469211935997, 0.40736223314702513, 0.28008144397847357, 0.1618224008944817, 0.07924414234585128, 0.043803908444184345, 0.027868620518405805, 0.02189128773806442, 0.01716906871840911, 0.014408707079607666]\n"
          ]
        }
      ]
    },
    {
      "cell_type": "code",
      "source": [
        "plt.figure(figsize=(10, 5))\n",
        "plt.plot(train_losses, label='Training Loss')\n",
        "plt.plot(test_losses, label='Val Loss')\n",
        "plt.xlabel('Epoch')\n",
        "plt.ylabel('Loss')\n",
        "plt.title('Training and Validation Loss Over Epochs')\n",
        "plt.legend()\n",
        "plt.show()"
      ],
      "metadata": {
        "colab": {
          "base_uri": "https://localhost:8080/",
          "height": 487
        },
        "id": "kLPkD-AfzSiv",
        "outputId": "4e70d7a5-767a-400b-cb68-470adfcd860f"
      },
      "execution_count": 32,
      "outputs": [
        {
          "output_type": "display_data",
          "data": {
            "text/plain": [
              "<Figure size 1000x500 with 1 Axes>"
            ],
            "image/png": "[encoded data removed]"
          },
          "metadata": {}
        }
      ]
    },
    {
      "cell_type": "code",
      "source": [
        "for X, Y in test_dataloader:\n",
        "    X = X.to(device)\n",
        "    Y = Y.to(device)\n",
        "    h = gru_model.init_hidden(BATCH_SIZE)\n",
        "    h = tuple([each.data for each in h])\n",
        "    pred, h = gru_model(X, h)\n",
        "    print(f\"Shape of X: {tensor_to_sentence(X[10])}\")\n",
        "    print(f\"Shape of Y: {Y[10]}\")\n",
        "    print(f\"pred shape: {pred[10]}\")\n",
        "    x = X\n",
        "    y = Y\n",
        "    break"
      ],
      "metadata": {
        "colab": {
          "base_uri": "https://localhost:8080/"
        },
        "id": "rVfxTMljzVAt",
        "outputId": "ec4d2255-9e6f-42a5-f646-2902e0e84384"
      },
      "execution_count": 33,
      "outputs": [
        {
          "output_type": "stream",
          "name": "stdout",
          "text": [
            "Shape of X: have to disagree with people saying that this is a lousy horror film with good acting and camerawork id say its an okay horror flick ruined by shockingly abysmal acting and poor camerawork watch juon the grudge instead of wasting your time with this garbage the principal idea behind the\n",
            "Shape of Y: 0\n",
            "pred shape: tensor([ 11.8716,  -9.8334, -10.6682], device='cuda:0',\n",
            "       grad_fn=<SelectBackward0>)\n"
          ]
        }
      ]
    },
    {
      "cell_type": "code",
      "source": [
        "import numpy as np\n",
        "from sklearn.metrics import confusion_matrix,classification_report\n",
        "import seaborn as sns\n",
        "import matplotlib.pyplot as plt\n",
        "\n",
        "# Confusion Matrix on 1 batch in the validation set\n",
        "\n",
        "h = gru_model.init_hidden(BATCH_SIZE)\n",
        "h = tuple([each.data for each in h])\n",
        "predicted, h = gru_model(x, h)\n",
        "print(y)\n",
        "print(predicted.argmax(1))\n",
        "y = y.cpu().detach().numpy()\n",
        "cm = confusion_matrix(y, predicted.argmax(1).cpu().detach().numpy())\n",
        "sns.heatmap(cm,\n",
        "            annot=True,\n",
        "            fmt='g',\n",
        "            xticklabels=['Negative', 'Positive'],\n",
        "            yticklabels=['Negative', 'Positive'])\n",
        "plt.xlabel('Prediction',fontsize=13)\n",
        "plt.ylabel('Actual',fontsize=13)\n",
        "plt.title('Confusion Matrix',fontsize=17)\n",
        "plt.show()"
      ],
      "metadata": {
        "colab": {
          "base_uri": "https://localhost:8080/",
          "height": 550
        },
        "id": "EzOHCgkrzYDq",
        "outputId": "e7287ea2-26ad-46e8-db65-ac0f48c9e2d7"
      },
      "execution_count": 34,
      "outputs": [
        {
          "output_type": "stream",
          "name": "stdout",
          "text": [
            "tensor([1, 1, 1, 0, 1, 1, 0, 1, 0, 1, 0, 1, 1, 0, 0, 0, 0, 1, 1, 1, 1, 0, 1, 0,\n",
            "        0, 0, 0, 1, 0, 1, 0, 1], device='cuda:0')\n",
            "tensor([1, 1, 0, 1, 0, 1, 0, 1, 0, 1, 0, 1, 0, 0, 0, 0, 0, 1, 1, 0, 1, 1, 0, 0,\n",
            "        0, 1, 1, 1, 0, 0, 0, 1], device='cuda:0')\n"
          ]
        },
        {
          "output_type": "display_data",
          "data": {
            "text/plain": [
              "<Figure size 640x480 with 2 Axes>"
            ],
            "image/png": "[encoded data removed]"
          },
          "metadata": {}
        }
      ]
    },
    {
      "cell_type": "markdown",
      "source": [
        "## **Entrenamiento RNN**"
      ],
      "metadata": {
        "id": "NAuqIPgIzg09"
      }
    },
    {
      "cell_type": "code",
      "source": [
        "train_losses = []\n",
        "test_losses = []\n",
        "\n",
        "for i in range(10):\n",
        "    print(f'Epoch {i} -----------------------------------')\n",
        "    train(train_dataloader, rnn_model, loss_func_rnn, optimizer_rnn, train_losses)\n",
        "    test(test_dataloader, rnn_model, loss_func_rnn, test_losses)\n",
        "\n",
        "print('Finished Training')"
      ],
      "metadata": {
        "colab": {
          "base_uri": "https://localhost:8080/"
        },
        "id": "h0tIZrS9zdSI",
        "outputId": "8988a002-fba6-41be-d66d-254c1ca76108"
      },
      "execution_count": 35,
      "outputs": [
        {
          "output_type": "stream",
          "name": "stdout",
          "text": [
            "Epoch 0 -----------------------------------\n",
            "loss: 1.084594 [   32/32000]\n",
            "loss: 0.734198 [ 6432/32000]\n",
            "loss: 0.669566 [12832/32000]\n",
            "loss: 0.706756 [19232/32000]\n",
            "loss: 0.676565 [25632/32000]\n",
            "Training loss: 0.714677\n",
            "Training accuracy: 49.931250\n",
            "________\n",
            "Test loss: 0.693927\n",
            "Test accuracy: 50.7%\n",
            "Epoch 1 -----------------------------------\n",
            "loss: 0.676482 [   32/32000]\n",
            "loss: 0.711386 [ 6432/32000]\n",
            "loss: 0.610289 [12832/32000]\n",
            "loss: 0.624959 [19232/32000]\n",
            "loss: 0.658621 [25632/32000]\n",
            "Training loss: 0.705933\n",
            "Training accuracy: 52.621875\n",
            "________\n",
            "Test loss: 0.693077\n",
            "Test accuracy: 52.3%\n",
            "Epoch 2 -----------------------------------\n",
            "loss: 0.747492 [   32/32000]\n",
            "loss: 0.671893 [ 6432/32000]\n",
            "loss: 0.646436 [12832/32000]\n",
            "loss: 0.585717 [19232/32000]\n",
            "loss: 0.625150 [25632/32000]\n",
            "Training loss: 0.686145\n",
            "Training accuracy: 57.209375\n",
            "________\n",
            "Test loss: 0.692319\n",
            "Test accuracy: 55.3%\n",
            "Epoch 3 -----------------------------------\n",
            "loss: 0.658614 [   32/32000]\n",
            "loss: 0.598498 [ 6432/32000]\n",
            "loss: 0.521144 [12832/32000]\n",
            "loss: 0.518981 [19232/32000]\n",
            "loss: 0.679195 [25632/32000]\n",
            "Training loss: 0.638124\n",
            "Training accuracy: 64.281250\n",
            "________\n",
            "Test loss: 0.655580\n",
            "Test accuracy: 63.1%\n",
            "Epoch 4 -----------------------------------\n",
            "loss: 0.715670 [   32/32000]\n",
            "loss: 0.708871 [ 6432/32000]\n",
            "loss: 0.456479 [12832/32000]\n",
            "loss: 0.529420 [19232/32000]\n",
            "loss: 0.636531 [25632/32000]\n",
            "Training loss: 0.591400\n",
            "Training accuracy: 70.150000\n",
            "________\n",
            "Test loss: 0.631130\n",
            "Test accuracy: 68.8%\n",
            "Epoch 5 -----------------------------------\n",
            "loss: 0.641899 [   32/32000]\n",
            "loss: 0.639098 [ 6432/32000]\n",
            "loss: 0.425799 [12832/32000]\n",
            "loss: 0.607795 [19232/32000]\n",
            "loss: 0.643167 [25632/32000]\n",
            "Training loss: 0.525201\n",
            "Training accuracy: 75.287500\n",
            "________\n",
            "Test loss: 0.628112\n",
            "Test accuracy: 71.2%\n",
            "Epoch 6 -----------------------------------\n",
            "loss: 0.710608 [   32/32000]\n",
            "loss: 0.652060 [ 6432/32000]\n",
            "loss: 0.357484 [12832/32000]\n",
            "loss: 0.381961 [19232/32000]\n",
            "loss: 0.582128 [25632/32000]\n",
            "Training loss: 0.470234\n",
            "Training accuracy: 78.881250\n",
            "________\n",
            "Test loss: 0.630314\n",
            "Test accuracy: 72.4%\n",
            "Epoch 7 -----------------------------------\n",
            "loss: 0.771172 [   32/32000]\n",
            "loss: 0.562513 [ 6432/32000]\n",
            "loss: 0.283264 [12832/32000]\n",
            "loss: 0.379644 [19232/32000]\n",
            "loss: 0.495659 [25632/32000]\n",
            "Training loss: 0.412228\n",
            "Training accuracy: 82.515625\n",
            "________\n",
            "Test loss: 0.665180\n",
            "Test accuracy: 72.8%\n",
            "Epoch 8 -----------------------------------\n",
            "loss: 0.566348 [   32/32000]\n",
            "loss: 0.600341 [ 6432/32000]\n",
            "loss: 0.348532 [12832/32000]\n",
            "loss: 0.254788 [19232/32000]\n",
            "loss: 0.607356 [25632/32000]\n",
            "Training loss: 0.370390\n",
            "Training accuracy: 84.846875\n",
            "________\n",
            "Test loss: 0.638347\n",
            "Test accuracy: 73.5%\n",
            "Epoch 9 -----------------------------------\n",
            "loss: 0.589716 [   32/32000]\n",
            "loss: 0.587704 [ 6432/32000]\n",
            "loss: 0.283956 [12832/32000]\n",
            "loss: 0.274484 [19232/32000]\n",
            "loss: 0.515176 [25632/32000]\n",
            "Training loss: 0.353229\n",
            "Training accuracy: 86.103125\n",
            "________\n",
            "Test loss: 0.680082\n",
            "Test accuracy: 72.6%\n",
            "Finished Training\n"
          ]
        }
      ]
    },
    {
      "cell_type": "code",
      "source": [
        "print(train_losses)"
      ],
      "metadata": {
        "colab": {
          "base_uri": "https://localhost:8080/"
        },
        "id": "F_Z3D1BFzoXx",
        "outputId": "0bc11972-7112-47a6-e1cb-8d5852ec96cb"
      },
      "execution_count": 36,
      "outputs": [
        {
          "output_type": "stream",
          "name": "stdout",
          "text": [
            "[0.7146774815320969, 0.7059326273798943, 0.6861445124745369, 0.6381235372722149, 0.5914003116190434, 0.5252011438012123, 0.4702337493300438, 0.412227903354913, 0.37038986942172053, 0.3532294149808586]\n"
          ]
        }
      ]
    },
    {
      "cell_type": "code",
      "source": [
        "plt.figure(figsize=(10, 5))\n",
        "plt.plot(train_losses, label='Training Loss')\n",
        "plt.plot(test_losses, label='Val Loss')\n",
        "plt.xlabel('Epoch')\n",
        "plt.ylabel('Loss')\n",
        "plt.title('Training and Validation Loss Over Epochs')\n",
        "plt.legend()\n",
        "plt.show()"
      ],
      "metadata": {
        "colab": {
          "base_uri": "https://localhost:8080/",
          "height": 487
        },
        "id": "cu9IgDPnLCJl",
        "outputId": "c9f689f4-8734-4ed0-8769-6063e61ee650"
      },
      "execution_count": 37,
      "outputs": [
        {
          "output_type": "display_data",
          "data": {
            "text/plain": [
              "<Figure size 1000x500 with 1 Axes>"
            ],
            "image/png": "[encoded data removed]"
          },
          "metadata": {}
        }
      ]
    },
    {
      "cell_type": "code",
      "source": [
        "for X, Y in test_dataloader:\n",
        "    X = X.to(device)\n",
        "    Y = Y.to(device)\n",
        "    h = rnn_model.init_hidden(BATCH_SIZE)\n",
        "    h = tuple([each.data for each in h])\n",
        "    pred, h = rnn_model(X, h)\n",
        "    print(f\"Shape of X: {tensor_to_sentence(X[10])}\")\n",
        "    print(f\"Shape of Y: {Y[10]}\")\n",
        "    print(f\"pred shape: {pred[10]}\")\n",
        "    x = X\n",
        "    y = Y\n",
        "    break"
      ],
      "metadata": {
        "colab": {
          "base_uri": "https://localhost:8080/"
        },
        "id": "sB_ssIH4LDrX",
        "outputId": "a50b1bf5-c72e-4bf6-cc7c-9fb1e69892d7"
      },
      "execution_count": 38,
      "outputs": [
        {
          "output_type": "stream",
          "name": "stdout",
          "text": [
            "Shape of X: have to disagree with people saying that this is a lousy horror film with good acting and camerawork id say its an okay horror flick ruined by shockingly abysmal acting and poor camerawork watch juon the grudge instead of wasting your time with this garbage the principal idea behind the\n",
            "Shape of Y: 0\n",
            "pred shape: tensor([  2.3740,  -0.8590, -10.5686], device='cuda:0',\n",
            "       grad_fn=<SelectBackward0>)\n"
          ]
        }
      ]
    },
    {
      "cell_type": "code",
      "source": [
        "import numpy as np\n",
        "from sklearn.metrics import confusion_matrix,classification_report\n",
        "import seaborn as sns\n",
        "import matplotlib.pyplot as plt\n",
        "\n",
        "# Confusion Matrix on 1 batch in the validation set\n",
        "\n",
        "h = rnn_model.init_hidden(BATCH_SIZE)\n",
        "h = tuple([each.data for each in h])\n",
        "predicted, h = rnn_model(x, h)\n",
        "print(y)\n",
        "print(predicted.argmax(1))\n",
        "y = y.cpu().detach().numpy()\n",
        "cm = confusion_matrix(y, predicted.argmax(1).cpu().detach().numpy())\n",
        "sns.heatmap(cm,\n",
        "            annot=True,\n",
        "            fmt='g',\n",
        "            xticklabels=['Negative', 'Positive'],\n",
        "            yticklabels=['Negative', 'Positive'])\n",
        "plt.xlabel('Prediction',fontsize=13)\n",
        "plt.ylabel('Actual',fontsize=13)\n",
        "plt.title('Confusion Matrix',fontsize=17)\n",
        "plt.show()"
      ],
      "metadata": {
        "colab": {
          "base_uri": "https://localhost:8080/",
          "height": 550
        },
        "id": "dSmrlaHjLGSk",
        "outputId": "4a9d463d-68be-4afb-f8eb-d38f6b9d2e55"
      },
      "execution_count": 39,
      "outputs": [
        {
          "output_type": "stream",
          "name": "stdout",
          "text": [
            "tensor([1, 1, 1, 0, 1, 1, 0, 1, 0, 1, 0, 1, 1, 0, 0, 0, 0, 1, 1, 1, 1, 0, 1, 0,\n",
            "        0, 0, 0, 1, 0, 1, 0, 1], device='cuda:0')\n",
            "tensor([1, 1, 1, 1, 0, 1, 0, 1, 0, 0, 0, 1, 0, 0, 0, 0, 0, 1, 1, 1, 1, 1, 1, 1,\n",
            "        0, 1, 0, 1, 1, 1, 0, 1], device='cuda:0')\n"
          ]
        },
        {
          "output_type": "display_data",
          "data": {
            "text/plain": [
              "<Figure size 640x480 with 2 Axes>"
            ],
            "image/png": "[encoded data removed]"
          },
          "metadata": {}
        }
      ]
    }
  ]
}