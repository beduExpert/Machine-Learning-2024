{
  "nbformat": 4,
  "nbformat_minor": 0,
  "metadata": {
    "colab": {
      "provenance": []
    },
    "kernelspec": {
      "name": "python3",
      "display_name": "Python 3"
    },
    "language_info": {
      "name": "python"
    }
  },
  "cells": [
    {
      "cell_type": "markdown",
      "source": [
        "# **Análisis de Sentimientos**"
      ],
      "metadata": {
        "id": "kCBsXNX0L8T9"
      }
    },
    {
      "cell_type": "markdown",
      "source": [
        "Dataset: https://www.kaggle.com/datasets/jp797498e/twitter-entity-sentiment-analysis/data"
      ],
      "metadata": {
        "id": "b64neV2XNd6w"
      }
    },
    {
      "cell_type": "markdown",
      "source": [
        "Instalar versión Torch v2.3"
      ],
      "metadata": {
        "id": "jpgmBVHMMEvf"
      }
    },
    {
      "cell_type": "code",
      "source": [
        "!pip install torch==2.3"
      ],
      "metadata": {
        "id": "FNK8aQWpma3D"
      },
      "execution_count": 1,
      "outputs": []
    },
    {
      "cell_type": "markdown",
      "source": [
        "Instalar torchtext v0.18"
      ],
      "metadata": {
        "id": "LW9EeLBEMIeR"
      }
    },
    {
      "cell_type": "code",
      "source": [
        "!pip install torchtext"
      ],
      "metadata": {
        "id": "1lLNK9DenfjP"
      },
      "execution_count": null,
      "outputs": []
    },
    {
      "cell_type": "code",
      "source": [
        "################!pip uninstall -y torchtext"
      ],
      "metadata": {
        "id": "WmO5zl7jl7rc"
      },
      "execution_count": 3,
      "outputs": []
    },
    {
      "cell_type": "code",
      "source": [
        "########import torch\n",
        "#########print(torch.__version__)"
      ],
      "metadata": {
        "id": "cKCw6ZuomF4H"
      },
      "execution_count": null,
      "outputs": []
    },
    {
      "cell_type": "markdown",
      "source": [
        "## **Librerías**"
      ],
      "metadata": {
        "id": "2juKe5hUL7qk"
      }
    },
    {
      "cell_type": "code",
      "execution_count": 4,
      "metadata": {
        "colab": {
          "base_uri": "https://localhost:8080/"
        },
        "id": "pt5CpkjAlJsE",
        "outputId": "2ece78b7-1223-4a28-bb8f-04ccf4886db0"
      },
      "outputs": [
        {
          "output_type": "stream",
          "name": "stderr",
          "text": [
            "/usr/local/lib/python3.10/dist-packages/torchtext/data/__init__.py:4: UserWarning: \n",
            "/!\\ IMPORTANT WARNING ABOUT TORCHTEXT STATUS /!\\ \n",
            "Torchtext is deprecated and the last released version will be 0.18 (this one). You can silence this warning by calling the following at the beginnign of your scripts: `import torchtext; torchtext.disable_torchtext_deprecation_warning()`\n",
            "  warnings.warn(torchtext._TORCHTEXT_DEPRECATION_MSG)\n"
          ]
        }
      ],
      "source": [
        "import torch.nn as nn\n",
        "import torch\n",
        "import pandas as pd\n",
        "import numpy as np\n",
        "import matplotlib.pyplot as plt\n",
        "from torchtext.data.utils import get_tokenizer\n",
        "from torch.utils.data import Dataset, DataLoader\n",
        "import re\n",
        "import nltk\n",
        "from nltk.corpus import stopwords\n",
        "from nltk.stem import SnowballStemmer\n",
        "\n",
        "from sklearn.model_selection import train_test_split"
      ]
    },
    {
      "cell_type": "markdown",
      "source": [
        "## **Carga del dataset**"
      ],
      "metadata": {
        "id": "IWxiNoryMUSu"
      }
    },
    {
      "cell_type": "code",
      "source": [
        "data_df = pd.read_csv(r\"/content/twitter_training.csv\",header=None)"
      ],
      "metadata": {
        "id": "mkEsHcNwlOer"
      },
      "execution_count": 5,
      "outputs": []
    },
    {
      "cell_type": "code",
      "source": [
        "data_df.head(10)"
      ],
      "metadata": {
        "colab": {
          "base_uri": "https://localhost:8080/",
          "height": 363
        },
        "id": "4lGDPJIglU_u",
        "outputId": "395642a3-9312-4aa9-d504-7bb52f494991"
      },
      "execution_count": 6,
      "outputs": [
        {
          "output_type": "execute_result",
          "data": {
            "text/plain": [
              "      0            1         2  \\\n",
              "0  2401  Borderlands  Positive   \n",
              "1  2401  Borderlands  Positive   \n",
              "2  2401  Borderlands  Positive   \n",
              "3  2401  Borderlands  Positive   \n",
              "4  2401  Borderlands  Positive   \n",
              "5  2401  Borderlands  Positive   \n",
              "6  2402  Borderlands  Positive   \n",
              "7  2402  Borderlands  Positive   \n",
              "8  2402  Borderlands  Positive   \n",
              "9  2402  Borderlands  Positive   \n",
              "\n",
              "                                                   3  \n",
              "0  im getting on borderlands and i will murder yo...  \n",
              "1  I am coming to the borders and I will kill you...  \n",
              "2  im getting on borderlands and i will kill you ...  \n",
              "3  im coming on borderlands and i will murder you...  \n",
              "4  im getting on borderlands 2 and i will murder ...  \n",
              "5  im getting into borderlands and i can murder y...  \n",
              "6  So I spent a few hours making something for fu...  \n",
              "7  So I spent a couple of hours doing something f...  \n",
              "8  So I spent a few hours doing something for fun...  \n",
              "9  So I spent a few hours making something for fu...  "
            ],
            "text/html": [
              "\n",
              "  <div id=\"df-ea4c5f54-950b-43ab-b9f5-e74fef3ede65\" class=\"colab-df-container\">\n",
              "    <div>\n",
              "<style scoped>\n",
              "    .dataframe tbody tr th:only-of-type {\n",
              "        vertical-align: middle;\n",
              "    }\n",
              "\n",
              "    .dataframe tbody tr th {\n",
              "        vertical-align: top;\n",
              "    }\n",
              "\n",
              "    .dataframe thead th {\n",
              "        text-align: right;\n",
              "    }\n",
              "</style>\n",
              "<table border=\"1\" class=\"dataframe\">\n",
              "  <thead>\n",
              "    <tr style=\"text-align: right;\">\n",
              "      <th></th>\n",
              "      <th>0</th>\n",
              "      <th>1</th>\n",
              "      <th>2</th>\n",
              "      <th>3</th>\n",
              "    </tr>\n",
              "  </thead>\n",
              "  <tbody>\n",
              "    <tr>\n",
              "      <th>0</th>\n",
              "      <td>2401</td>\n",
              "      <td>Borderlands</td>\n",
              "      <td>Positive</td>\n",
              "      <td>im getting on borderlands and i will murder yo...</td>\n",
              "    </tr>\n",
              "    <tr>\n",
              "      <th>1</th>\n",
              "      <td>2401</td>\n",
              "      <td>Borderlands</td>\n",
              "      <td>Positive</td>\n",
              "      <td>I am coming to the borders and I will kill you...</td>\n",
              "    </tr>\n",
              "    <tr>\n",
              "      <th>2</th>\n",
              "      <td>2401</td>\n",
              "      <td>Borderlands</td>\n",
              "      <td>Positive</td>\n",
              "      <td>im getting on borderlands and i will kill you ...</td>\n",
              "    </tr>\n",
              "    <tr>\n",
              "      <th>3</th>\n",
              "      <td>2401</td>\n",
              "      <td>Borderlands</td>\n",
              "      <td>Positive</td>\n",
              "      <td>im coming on borderlands and i will murder you...</td>\n",
              "    </tr>\n",
              "    <tr>\n",
              "      <th>4</th>\n",
              "      <td>2401</td>\n",
              "      <td>Borderlands</td>\n",
              "      <td>Positive</td>\n",
              "      <td>im getting on borderlands 2 and i will murder ...</td>\n",
              "    </tr>\n",
              "    <tr>\n",
              "      <th>5</th>\n",
              "      <td>2401</td>\n",
              "      <td>Borderlands</td>\n",
              "      <td>Positive</td>\n",
              "      <td>im getting into borderlands and i can murder y...</td>\n",
              "    </tr>\n",
              "    <tr>\n",
              "      <th>6</th>\n",
              "      <td>2402</td>\n",
              "      <td>Borderlands</td>\n",
              "      <td>Positive</td>\n",
              "      <td>So I spent a few hours making something for fu...</td>\n",
              "    </tr>\n",
              "    <tr>\n",
              "      <th>7</th>\n",
              "      <td>2402</td>\n",
              "      <td>Borderlands</td>\n",
              "      <td>Positive</td>\n",
              "      <td>So I spent a couple of hours doing something f...</td>\n",
              "    </tr>\n",
              "    <tr>\n",
              "      <th>8</th>\n",
              "      <td>2402</td>\n",
              "      <td>Borderlands</td>\n",
              "      <td>Positive</td>\n",
              "      <td>So I spent a few hours doing something for fun...</td>\n",
              "    </tr>\n",
              "    <tr>\n",
              "      <th>9</th>\n",
              "      <td>2402</td>\n",
              "      <td>Borderlands</td>\n",
              "      <td>Positive</td>\n",
              "      <td>So I spent a few hours making something for fu...</td>\n",
              "    </tr>\n",
              "  </tbody>\n",
              "</table>\n",
              "</div>\n",
              "    <div class=\"colab-df-buttons\">\n",
              "\n",
              "  <div class=\"colab-df-container\">\n",
              "    <button class=\"colab-df-convert\" onclick=\"convertToInteractive('df-ea4c5f54-950b-43ab-b9f5-e74fef3ede65')\"\n",
              "            title=\"Convert this dataframe to an interactive table.\"\n",
              "            style=\"display:none;\">\n",
              "\n",
              "  <svg xmlns=\"http://www.w3.org/2000/svg\" height=\"24px\" viewBox=\"0 -960 960 960\">\n",
              "    <path d=\"M120-120v-720h720v720H120Zm60-500h600v-160H180v160Zm220 220h160v-160H400v160Zm0 220h160v-160H400v160ZM180-400h160v-160H180v160Zm440 0h160v-160H620v160ZM180-180h160v-160H180v160Zm440 0h160v-160H620v160Z\"/>\n",
              "  </svg>\n",
              "    </button>\n",
              "\n",
              "  <style>\n",
              "    .colab-df-container {\n",
              "      display:flex;\n",
              "      gap: 12px;\n",
              "    }\n",
              "\n",
              "    .colab-df-convert {\n",
              "      background-color: #E8F0FE;\n",
              "      border: none;\n",
              "      border-radius: 50%;\n",
              "      cursor: pointer;\n",
              "      display: none;\n",
              "      fill: #1967D2;\n",
              "      height: 32px;\n",
              "      padding: 0 0 0 0;\n",
              "      width: 32px;\n",
              "    }\n",
              "\n",
              "    .colab-df-convert:hover {\n",
              "      background-color: #E2EBFA;\n",
              "      box-shadow: 0px 1px 2px rgba(60, 64, 67, 0.3), 0px 1px 3px 1px rgba(60, 64, 67, 0.15);\n",
              "      fill: #174EA6;\n",
              "    }\n",
              "\n",
              "    .colab-df-buttons div {\n",
              "      margin-bottom: 4px;\n",
              "    }\n",
              "\n",
              "    [theme=dark] .colab-df-convert {\n",
              "      background-color: #3B4455;\n",
              "      fill: #D2E3FC;\n",
              "    }\n",
              "\n",
              "    [theme=dark] .colab-df-convert:hover {\n",
              "      background-color: #434B5C;\n",
              "      box-shadow: 0px 1px 3px 1px rgba(0, 0, 0, 0.15);\n",
              "      filter: drop-shadow(0px 1px 2px rgba(0, 0, 0, 0.3));\n",
              "      fill: #FFFFFF;\n",
              "    }\n",
              "  </style>\n",
              "\n",
              "    <script>\n",
              "      const buttonEl =\n",
              "        document.querySelector('#df-ea4c5f54-950b-43ab-b9f5-e74fef3ede65 button.colab-df-convert');\n",
              "      buttonEl.style.display =\n",
              "        google.colab.kernel.accessAllowed ? 'block' : 'none';\n",
              "\n",
              "      async function convertToInteractive(key) {\n",
              "        const element = document.querySelector('#df-ea4c5f54-950b-43ab-b9f5-e74fef3ede65');\n",
              "        const dataTable =\n",
              "          await google.colab.kernel.invokeFunction('convertToInteractive',\n",
              "                                                    [key], {});\n",
              "        if (!dataTable) return;\n",
              "\n",
              "        const docLinkHtml = 'Like what you see? Visit the ' +\n",
              "          '<a target=\"_blank\" href=https://colab.research.google.com/notebooks/data_table.ipynb>data table notebook</a>'\n",
              "          + ' to learn more about interactive tables.';\n",
              "        element.innerHTML = '';\n",
              "        dataTable['output_type'] = 'display_data';\n",
              "        await google.colab.output.renderOutput(dataTable, element);\n",
              "        const docLink = document.createElement('div');\n",
              "        docLink.innerHTML = docLinkHtml;\n",
              "        element.appendChild(docLink);\n",
              "      }\n",
              "    </script>\n",
              "  </div>\n",
              "\n",
              "\n",
              "<div id=\"df-85b1101f-232a-4638-97ec-9b1df02284aa\">\n",
              "  <button class=\"colab-df-quickchart\" onclick=\"quickchart('df-85b1101f-232a-4638-97ec-9b1df02284aa')\"\n",
              "            title=\"Suggest charts\"\n",
              "            style=\"display:none;\">\n",
              "\n",
              "<svg xmlns=\"http://www.w3.org/2000/svg\" height=\"24px\"viewBox=\"0 0 24 24\"\n",
              "     width=\"24px\">\n",
              "    <g>\n",
              "        <path d=\"M19 3H5c-1.1 0-2 .9-2 2v14c0 1.1.9 2 2 2h14c1.1 0 2-.9 2-2V5c0-1.1-.9-2-2-2zM9 17H7v-7h2v7zm4 0h-2V7h2v10zm4 0h-2v-4h2v4z\"/>\n",
              "    </g>\n",
              "</svg>\n",
              "  </button>\n",
              "\n",
              "<style>\n",
              "  .colab-df-quickchart {\n",
              "      --bg-color: #E8F0FE;\n",
              "      --fill-color: #1967D2;\n",
              "      --hover-bg-color: #E2EBFA;\n",
              "      --hover-fill-color: #174EA6;\n",
              "      --disabled-fill-color: #AAA;\n",
              "      --disabled-bg-color: #DDD;\n",
              "  }\n",
              "\n",
              "  [theme=dark] .colab-df-quickchart {\n",
              "      --bg-color: #3B4455;\n",
              "      --fill-color: #D2E3FC;\n",
              "      --hover-bg-color: #434B5C;\n",
              "      --hover-fill-color: #FFFFFF;\n",
              "      --disabled-bg-color: #3B4455;\n",
              "      --disabled-fill-color: #666;\n",
              "  }\n",
              "\n",
              "  .colab-df-quickchart {\n",
              "    background-color: var(--bg-color);\n",
              "    border: none;\n",
              "    border-radius: 50%;\n",
              "    cursor: pointer;\n",
              "    display: none;\n",
              "    fill: var(--fill-color);\n",
              "    height: 32px;\n",
              "    padding: 0;\n",
              "    width: 32px;\n",
              "  }\n",
              "\n",
              "  .colab-df-quickchart:hover {\n",
              "    background-color: var(--hover-bg-color);\n",
              "    box-shadow: 0 1px 2px rgba(60, 64, 67, 0.3), 0 1px 3px 1px rgba(60, 64, 67, 0.15);\n",
              "    fill: var(--button-hover-fill-color);\n",
              "  }\n",
              "\n",
              "  .colab-df-quickchart-complete:disabled,\n",
              "  .colab-df-quickchart-complete:disabled:hover {\n",
              "    background-color: var(--disabled-bg-color);\n",
              "    fill: var(--disabled-fill-color);\n",
              "    box-shadow: none;\n",
              "  }\n",
              "\n",
              "  .colab-df-spinner {\n",
              "    border: 2px solid var(--fill-color);\n",
              "    border-color: transparent;\n",
              "    border-bottom-color: var(--fill-color);\n",
              "    animation:\n",
              "      spin 1s steps(1) infinite;\n",
              "  }\n",
              "\n",
              "  @keyframes spin {\n",
              "    0% {\n",
              "      border-color: transparent;\n",
              "      border-bottom-color: var(--fill-color);\n",
              "      border-left-color: var(--fill-color);\n",
              "    }\n",
              "    20% {\n",
              "      border-color: transparent;\n",
              "      border-left-color: var(--fill-color);\n",
              "      border-top-color: var(--fill-color);\n",
              "    }\n",
              "    30% {\n",
              "      border-color: transparent;\n",
              "      border-left-color: var(--fill-color);\n",
              "      border-top-color: var(--fill-color);\n",
              "      border-right-color: var(--fill-color);\n",
              "    }\n",
              "    40% {\n",
              "      border-color: transparent;\n",
              "      border-right-color: var(--fill-color);\n",
              "      border-top-color: var(--fill-color);\n",
              "    }\n",
              "    60% {\n",
              "      border-color: transparent;\n",
              "      border-right-color: var(--fill-color);\n",
              "    }\n",
              "    80% {\n",
              "      border-color: transparent;\n",
              "      border-right-color: var(--fill-color);\n",
              "      border-bottom-color: var(--fill-color);\n",
              "    }\n",
              "    90% {\n",
              "      border-color: transparent;\n",
              "      border-bottom-color: var(--fill-color);\n",
              "    }\n",
              "  }\n",
              "</style>\n",
              "\n",
              "  <script>\n",
              "    async function quickchart(key) {\n",
              "      const quickchartButtonEl =\n",
              "        document.querySelector('#' + key + ' button');\n",
              "      quickchartButtonEl.disabled = true;  // To prevent multiple clicks.\n",
              "      quickchartButtonEl.classList.add('colab-df-spinner');\n",
              "      try {\n",
              "        const charts = await google.colab.kernel.invokeFunction(\n",
              "            'suggestCharts', [key], {});\n",
              "      } catch (error) {\n",
              "        console.error('Error during call to suggestCharts:', error);\n",
              "      }\n",
              "      quickchartButtonEl.classList.remove('colab-df-spinner');\n",
              "      quickchartButtonEl.classList.add('colab-df-quickchart-complete');\n",
              "    }\n",
              "    (() => {\n",
              "      let quickchartButtonEl =\n",
              "        document.querySelector('#df-85b1101f-232a-4638-97ec-9b1df02284aa button');\n",
              "      quickchartButtonEl.style.display =\n",
              "        google.colab.kernel.accessAllowed ? 'block' : 'none';\n",
              "    })();\n",
              "  </script>\n",
              "</div>\n",
              "\n",
              "    </div>\n",
              "  </div>\n"
            ],
            "application/vnd.google.colaboratory.intrinsic+json": {
              "type": "dataframe",
              "variable_name": "data_df",
              "summary": "{\n  \"name\": \"data_df\",\n  \"rows\": 74682,\n  \"fields\": [\n    {\n      \"column\": 0,\n      \"properties\": {\n        \"dtype\": \"number\",\n        \"std\": 3740,\n        \"min\": 1,\n        \"max\": 13200,\n        \"num_unique_values\": 12447,\n        \"samples\": [\n          1616,\n          2660,\n          2335\n        ],\n        \"semantic_type\": \"\",\n        \"description\": \"\"\n      }\n    },\n    {\n      \"column\": 1,\n      \"properties\": {\n        \"dtype\": \"category\",\n        \"num_unique_values\": 32,\n        \"samples\": [\n          \"Cyberpunk2077\",\n          \"Microsoft\",\n          \"TomClancysRainbowSix\"\n        ],\n        \"semantic_type\": \"\",\n        \"description\": \"\"\n      }\n    },\n    {\n      \"column\": 2,\n      \"properties\": {\n        \"dtype\": \"category\",\n        \"num_unique_values\": 4,\n        \"samples\": [\n          \"Neutral\",\n          \"Irrelevant\",\n          \"Positive\"\n        ],\n        \"semantic_type\": \"\",\n        \"description\": \"\"\n      }\n    },\n    {\n      \"column\": 3,\n      \"properties\": {\n        \"dtype\": \"string\",\n        \"num_unique_values\": 69491,\n        \"samples\": [\n          \"Thanks to @ Kain0025 for the raid. Thanks to @ gamingstreams and @ velonese002 for the bitts! And thanks to @ ColTrysTohete for hanging out and hanging out!. I hope to continue streaming regularly.. watch the w / @ Cohtstreams _ coming live!\",\n          \"How not to get bored about every damn thing in life.\",\n          \"The Best Way to Protect the Samsung Galaxy Note10+ buff.ly/2zkjIhU <unk> ^\"\n        ],\n        \"semantic_type\": \"\",\n        \"description\": \"\"\n      }\n    }\n  ]\n}"
            }
          },
          "metadata": {},
          "execution_count": 6
        }
      ]
    },
    {
      "cell_type": "markdown",
      "source": [
        "## **Codificación de las etiquetas**"
      ],
      "metadata": {
        "id": "sDUcHDSPMYq5"
      }
    },
    {
      "cell_type": "code",
      "source": [
        "from sklearn import preprocessing\n",
        "label_encoder = preprocessing.LabelEncoder()"
      ],
      "metadata": {
        "id": "31_m9Oncnu3F"
      },
      "execution_count": 7,
      "outputs": []
    },
    {
      "cell_type": "code",
      "source": [
        "data_df.dropna(inplace = True)\n",
        "data_df.drop_duplicates(inplace = True)\n",
        "data_df = data_df.drop(columns=data_df.columns[[0, 1]])\n",
        "new_column_names = ['label', 'text']\n",
        "data_df.columns = new_column_names\n",
        "data_df = data_df.loc[data_df['label'] != 'Irrelevant'].copy()\n",
        "data_df['label'] = label_encoder.fit_transform(data_df['label'])\n",
        "print(len(data_df))"
      ],
      "metadata": {
        "colab": {
          "base_uri": "https://localhost:8080/"
        },
        "id": "wgfXacq3nygr",
        "outputId": "4c9fc996-e427-4cdf-af20-4de8f03a4202"
      },
      "execution_count": 8,
      "outputs": [
        {
          "output_type": "stream",
          "name": "stdout",
          "text": [
            "59119\n"
          ]
        }
      ]
    },
    {
      "cell_type": "code",
      "source": [
        "data_df.head()"
      ],
      "metadata": {
        "colab": {
          "base_uri": "https://localhost:8080/",
          "height": 206
        },
        "id": "s6HPRwQen0Aa",
        "outputId": "90d6e81b-fa88-4608-8dc8-d1d121f4f174"
      },
      "execution_count": 9,
      "outputs": [
        {
          "output_type": "execute_result",
          "data": {
            "text/plain": [
              "   label                                               text\n",
              "0      2  im getting on borderlands and i will murder yo...\n",
              "1      2  I am coming to the borders and I will kill you...\n",
              "2      2  im getting on borderlands and i will kill you ...\n",
              "3      2  im coming on borderlands and i will murder you...\n",
              "4      2  im getting on borderlands 2 and i will murder ..."
            ],
            "text/html": [
              "\n",
              "  <div id=\"df-512da141-454a-4be1-821a-a91a7fb6b969\" class=\"colab-df-container\">\n",
              "    <div>\n",
              "<style scoped>\n",
              "    .dataframe tbody tr th:only-of-type {\n",
              "        vertical-align: middle;\n",
              "    }\n",
              "\n",
              "    .dataframe tbody tr th {\n",
              "        vertical-align: top;\n",
              "    }\n",
              "\n",
              "    .dataframe thead th {\n",
              "        text-align: right;\n",
              "    }\n",
              "</style>\n",
              "<table border=\"1\" class=\"dataframe\">\n",
              "  <thead>\n",
              "    <tr style=\"text-align: right;\">\n",
              "      <th></th>\n",
              "      <th>label</th>\n",
              "      <th>text</th>\n",
              "    </tr>\n",
              "  </thead>\n",
              "  <tbody>\n",
              "    <tr>\n",
              "      <th>0</th>\n",
              "      <td>2</td>\n",
              "      <td>im getting on borderlands and i will murder yo...</td>\n",
              "    </tr>\n",
              "    <tr>\n",
              "      <th>1</th>\n",
              "      <td>2</td>\n",
              "      <td>I am coming to the borders and I will kill you...</td>\n",
              "    </tr>\n",
              "    <tr>\n",
              "      <th>2</th>\n",
              "      <td>2</td>\n",
              "      <td>im getting on borderlands and i will kill you ...</td>\n",
              "    </tr>\n",
              "    <tr>\n",
              "      <th>3</th>\n",
              "      <td>2</td>\n",
              "      <td>im coming on borderlands and i will murder you...</td>\n",
              "    </tr>\n",
              "    <tr>\n",
              "      <th>4</th>\n",
              "      <td>2</td>\n",
              "      <td>im getting on borderlands 2 and i will murder ...</td>\n",
              "    </tr>\n",
              "  </tbody>\n",
              "</table>\n",
              "</div>\n",
              "    <div class=\"colab-df-buttons\">\n",
              "\n",
              "  <div class=\"colab-df-container\">\n",
              "    <button class=\"colab-df-convert\" onclick=\"convertToInteractive('df-512da141-454a-4be1-821a-a91a7fb6b969')\"\n",
              "            title=\"Convert this dataframe to an interactive table.\"\n",
              "            style=\"display:none;\">\n",
              "\n",
              "  <svg xmlns=\"http://www.w3.org/2000/svg\" height=\"24px\" viewBox=\"0 -960 960 960\">\n",
              "    <path d=\"M120-120v-720h720v720H120Zm60-500h600v-160H180v160Zm220 220h160v-160H400v160Zm0 220h160v-160H400v160ZM180-400h160v-160H180v160Zm440 0h160v-160H620v160ZM180-180h160v-160H180v160Zm440 0h160v-160H620v160Z\"/>\n",
              "  </svg>\n",
              "    </button>\n",
              "\n",
              "  <style>\n",
              "    .colab-df-container {\n",
              "      display:flex;\n",
              "      gap: 12px;\n",
              "    }\n",
              "\n",
              "    .colab-df-convert {\n",
              "      background-color: #E8F0FE;\n",
              "      border: none;\n",
              "      border-radius: 50%;\n",
              "      cursor: pointer;\n",
              "      display: none;\n",
              "      fill: #1967D2;\n",
              "      height: 32px;\n",
              "      padding: 0 0 0 0;\n",
              "      width: 32px;\n",
              "    }\n",
              "\n",
              "    .colab-df-convert:hover {\n",
              "      background-color: #E2EBFA;\n",
              "      box-shadow: 0px 1px 2px rgba(60, 64, 67, 0.3), 0px 1px 3px 1px rgba(60, 64, 67, 0.15);\n",
              "      fill: #174EA6;\n",
              "    }\n",
              "\n",
              "    .colab-df-buttons div {\n",
              "      margin-bottom: 4px;\n",
              "    }\n",
              "\n",
              "    [theme=dark] .colab-df-convert {\n",
              "      background-color: #3B4455;\n",
              "      fill: #D2E3FC;\n",
              "    }\n",
              "\n",
              "    [theme=dark] .colab-df-convert:hover {\n",
              "      background-color: #434B5C;\n",
              "      box-shadow: 0px 1px 3px 1px rgba(0, 0, 0, 0.15);\n",
              "      filter: drop-shadow(0px 1px 2px rgba(0, 0, 0, 0.3));\n",
              "      fill: #FFFFFF;\n",
              "    }\n",
              "  </style>\n",
              "\n",
              "    <script>\n",
              "      const buttonEl =\n",
              "        document.querySelector('#df-512da141-454a-4be1-821a-a91a7fb6b969 button.colab-df-convert');\n",
              "      buttonEl.style.display =\n",
              "        google.colab.kernel.accessAllowed ? 'block' : 'none';\n",
              "\n",
              "      async function convertToInteractive(key) {\n",
              "        const element = document.querySelector('#df-512da141-454a-4be1-821a-a91a7fb6b969');\n",
              "        const dataTable =\n",
              "          await google.colab.kernel.invokeFunction('convertToInteractive',\n",
              "                                                    [key], {});\n",
              "        if (!dataTable) return;\n",
              "\n",
              "        const docLinkHtml = 'Like what you see? Visit the ' +\n",
              "          '<a target=\"_blank\" href=https://colab.research.google.com/notebooks/data_table.ipynb>data table notebook</a>'\n",
              "          + ' to learn more about interactive tables.';\n",
              "        element.innerHTML = '';\n",
              "        dataTable['output_type'] = 'display_data';\n",
              "        await google.colab.output.renderOutput(dataTable, element);\n",
              "        const docLink = document.createElement('div');\n",
              "        docLink.innerHTML = docLinkHtml;\n",
              "        element.appendChild(docLink);\n",
              "      }\n",
              "    </script>\n",
              "  </div>\n",
              "\n",
              "\n",
              "<div id=\"df-8255aeb4-071c-4e52-a755-f4dff9e8d66b\">\n",
              "  <button class=\"colab-df-quickchart\" onclick=\"quickchart('df-8255aeb4-071c-4e52-a755-f4dff9e8d66b')\"\n",
              "            title=\"Suggest charts\"\n",
              "            style=\"display:none;\">\n",
              "\n",
              "<svg xmlns=\"http://www.w3.org/2000/svg\" height=\"24px\"viewBox=\"0 0 24 24\"\n",
              "     width=\"24px\">\n",
              "    <g>\n",
              "        <path d=\"M19 3H5c-1.1 0-2 .9-2 2v14c0 1.1.9 2 2 2h14c1.1 0 2-.9 2-2V5c0-1.1-.9-2-2-2zM9 17H7v-7h2v7zm4 0h-2V7h2v10zm4 0h-2v-4h2v4z\"/>\n",
              "    </g>\n",
              "</svg>\n",
              "  </button>\n",
              "\n",
              "<style>\n",
              "  .colab-df-quickchart {\n",
              "      --bg-color: #E8F0FE;\n",
              "      --fill-color: #1967D2;\n",
              "      --hover-bg-color: #E2EBFA;\n",
              "      --hover-fill-color: #174EA6;\n",
              "      --disabled-fill-color: #AAA;\n",
              "      --disabled-bg-color: #DDD;\n",
              "  }\n",
              "\n",
              "  [theme=dark] .colab-df-quickchart {\n",
              "      --bg-color: #3B4455;\n",
              "      --fill-color: #D2E3FC;\n",
              "      --hover-bg-color: #434B5C;\n",
              "      --hover-fill-color: #FFFFFF;\n",
              "      --disabled-bg-color: #3B4455;\n",
              "      --disabled-fill-color: #666;\n",
              "  }\n",
              "\n",
              "  .colab-df-quickchart {\n",
              "    background-color: var(--bg-color);\n",
              "    border: none;\n",
              "    border-radius: 50%;\n",
              "    cursor: pointer;\n",
              "    display: none;\n",
              "    fill: var(--fill-color);\n",
              "    height: 32px;\n",
              "    padding: 0;\n",
              "    width: 32px;\n",
              "  }\n",
              "\n",
              "  .colab-df-quickchart:hover {\n",
              "    background-color: var(--hover-bg-color);\n",
              "    box-shadow: 0 1px 2px rgba(60, 64, 67, 0.3), 0 1px 3px 1px rgba(60, 64, 67, 0.15);\n",
              "    fill: var(--button-hover-fill-color);\n",
              "  }\n",
              "\n",
              "  .colab-df-quickchart-complete:disabled,\n",
              "  .colab-df-quickchart-complete:disabled:hover {\n",
              "    background-color: var(--disabled-bg-color);\n",
              "    fill: var(--disabled-fill-color);\n",
              "    box-shadow: none;\n",
              "  }\n",
              "\n",
              "  .colab-df-spinner {\n",
              "    border: 2px solid var(--fill-color);\n",
              "    border-color: transparent;\n",
              "    border-bottom-color: var(--fill-color);\n",
              "    animation:\n",
              "      spin 1s steps(1) infinite;\n",
              "  }\n",
              "\n",
              "  @keyframes spin {\n",
              "    0% {\n",
              "      border-color: transparent;\n",
              "      border-bottom-color: var(--fill-color);\n",
              "      border-left-color: var(--fill-color);\n",
              "    }\n",
              "    20% {\n",
              "      border-color: transparent;\n",
              "      border-left-color: var(--fill-color);\n",
              "      border-top-color: var(--fill-color);\n",
              "    }\n",
              "    30% {\n",
              "      border-color: transparent;\n",
              "      border-left-color: var(--fill-color);\n",
              "      border-top-color: var(--fill-color);\n",
              "      border-right-color: var(--fill-color);\n",
              "    }\n",
              "    40% {\n",
              "      border-color: transparent;\n",
              "      border-right-color: var(--fill-color);\n",
              "      border-top-color: var(--fill-color);\n",
              "    }\n",
              "    60% {\n",
              "      border-color: transparent;\n",
              "      border-right-color: var(--fill-color);\n",
              "    }\n",
              "    80% {\n",
              "      border-color: transparent;\n",
              "      border-right-color: var(--fill-color);\n",
              "      border-bottom-color: var(--fill-color);\n",
              "    }\n",
              "    90% {\n",
              "      border-color: transparent;\n",
              "      border-bottom-color: var(--fill-color);\n",
              "    }\n",
              "  }\n",
              "</style>\n",
              "\n",
              "  <script>\n",
              "    async function quickchart(key) {\n",
              "      const quickchartButtonEl =\n",
              "        document.querySelector('#' + key + ' button');\n",
              "      quickchartButtonEl.disabled = true;  // To prevent multiple clicks.\n",
              "      quickchartButtonEl.classList.add('colab-df-spinner');\n",
              "      try {\n",
              "        const charts = await google.colab.kernel.invokeFunction(\n",
              "            'suggestCharts', [key], {});\n",
              "      } catch (error) {\n",
              "        console.error('Error during call to suggestCharts:', error);\n",
              "      }\n",
              "      quickchartButtonEl.classList.remove('colab-df-spinner');\n",
              "      quickchartButtonEl.classList.add('colab-df-quickchart-complete');\n",
              "    }\n",
              "    (() => {\n",
              "      let quickchartButtonEl =\n",
              "        document.querySelector('#df-8255aeb4-071c-4e52-a755-f4dff9e8d66b button');\n",
              "      quickchartButtonEl.style.display =\n",
              "        google.colab.kernel.accessAllowed ? 'block' : 'none';\n",
              "    })();\n",
              "  </script>\n",
              "</div>\n",
              "\n",
              "    </div>\n",
              "  </div>\n"
            ],
            "application/vnd.google.colaboratory.intrinsic+json": {
              "type": "dataframe",
              "variable_name": "data_df",
              "summary": "{\n  \"name\": \"data_df\",\n  \"rows\": 59119,\n  \"fields\": [\n    {\n      \"column\": \"label\",\n      \"properties\": {\n        \"dtype\": \"number\",\n        \"std\": 0,\n        \"min\": 0,\n        \"max\": 2,\n        \"num_unique_values\": 3,\n        \"samples\": [\n          2,\n          1,\n          0\n        ],\n        \"semantic_type\": \"\",\n        \"description\": \"\"\n      }\n    },\n    {\n      \"column\": \"text\",\n      \"properties\": {\n        \"dtype\": \"string\",\n        \"num_unique_values\": 57297,\n        \"samples\": [\n          \"If @ Treyarch does not remove the damn shrubs from Cartel, this card is doomed to fail.\",\n          \"The only pity is that there won't be a live broadcast tonight, which will have a lot of problems with the internet and it won't be able to maintain the stream.\",\n          \"@GhostRecon ever gonna fix mercenaries mode in woodlands ? So many people in PVP talk about it but it only worked for like 2 months. Would love to see it going again was really fun.\"\n        ],\n        \"semantic_type\": \"\",\n        \"description\": \"\"\n      }\n    }\n  ]\n}"
            }
          },
          "metadata": {},
          "execution_count": 9
        }
      ]
    },
    {
      "cell_type": "markdown",
      "source": [
        "## **Estadísticas de la variable Label**"
      ],
      "metadata": {
        "id": "5Dgx8YycMeKR"
      }
    },
    {
      "cell_type": "code",
      "source": [
        "emotions_count = data_df['label'].value_counts()\n",
        "plt.bar(list(emotions_count.keys()), list(emotions_count), color='teal')\n",
        "plt.xlabel(\"Sentiment\",)\n",
        "plt.ylabel('Count')\n",
        "plt.title('Emotions Count')\n",
        "plt.show()\n",
        "print(list(emotions_count))"
      ],
      "metadata": {
        "colab": {
          "base_uri": "https://localhost:8080/",
          "height": 489
        },
        "id": "1_0YZRzun2Ob",
        "outputId": "57c5d607-b05d-4b7f-c30a-5e35381079c1"
      },
      "execution_count": 10,
      "outputs": [
        {
          "output_type": "display_data",
          "data": {
            "text/plain": [
              "<Figure size 640x480 with 1 Axes>"
            ],
            "image/png": "[encoded data removed]"
          },
          "metadata": {}
        },
        {
          "output_type": "stream",
          "name": "stdout",
          "text": [
            "[21698, 19713, 17708]\n"
          ]
        }
      ]
    },
    {
      "cell_type": "markdown",
      "source": [
        "## **Stopwords**"
      ],
      "metadata": {
        "id": "Cf1G_opVMjpQ"
      }
    },
    {
      "cell_type": "code",
      "source": [
        "nltk.download('stopwords')\n",
        "stop_words = stopwords.words(\"english\")\n",
        "stemmer = SnowballStemmer(\"english\")\n",
        "\n",
        "def clean_text(text, stem=True):\n",
        "    text = re.sub(r'http\\S+|www\\S+|https\\S+', '', text, flags=re.MULTILINE)\n",
        "    text = re.sub(r'[^A-Za-z\\s]', '', text)\n",
        "    text = re.sub(r'\\s+', ' ', text).strip()\n",
        "    text = text.lower()\n",
        "    tokens = []\n",
        "    for token in text.split():\n",
        "        if token not in stop_words:\n",
        "            if stem:\n",
        "                tokens.append(stemmer.stem(token))\n",
        "            else:\n",
        "                tokens.append(token)\n",
        "    return text\n",
        "\n",
        "\n",
        "\n",
        "tokenizer = get_tokenizer('basic_english')\n",
        "train_data = data_df['text'].apply(clean_text).apply(tokenizer)\n",
        "data_df['tokens'] = train_data\n",
        "print(data_df['tokens'][:4])\n",
        "print(data_df['label'][:4])"
      ],
      "metadata": {
        "colab": {
          "base_uri": "https://localhost:8080/"
        },
        "id": "T7zzLjTAn4qo",
        "outputId": "3381014a-acca-4e12-f694-bb6632219d9f"
      },
      "execution_count": 11,
      "outputs": [
        {
          "output_type": "stream",
          "name": "stderr",
          "text": [
            "[nltk_data] Downloading package stopwords to /root/nltk_data...\n",
            "[nltk_data]   Unzipping corpora/stopwords.zip.\n"
          ]
        },
        {
          "output_type": "stream",
          "name": "stdout",
          "text": [
            "0    [im, getting, on, borderlands, and, i, will, m...\n",
            "1    [i, am, coming, to, the, borders, and, i, will...\n",
            "2    [im, getting, on, borderlands, and, i, will, k...\n",
            "3    [im, coming, on, borderlands, and, i, will, mu...\n",
            "Name: tokens, dtype: object\n",
            "0    2\n",
            "1    2\n",
            "2    2\n",
            "3    2\n",
            "Name: label, dtype: int64\n"
          ]
        }
      ]
    },
    {
      "cell_type": "markdown",
      "source": [
        "## **División del set de entrenamiento y set de validación**"
      ],
      "metadata": {
        "id": "OlL6DxgCMmie"
      }
    },
    {
      "cell_type": "code",
      "source": [
        "from sklearn.model_selection import train_test_split\n",
        "\n",
        "train_df, test_df = train_test_split(data_df, test_size=0.2, shuffle=True, random_state = 123)\n",
        "print(train_df['label'].value_counts())\n",
        "print(test_df['label'].value_counts())"
      ],
      "metadata": {
        "colab": {
          "base_uri": "https://localhost:8080/"
        },
        "id": "HH8tRUy6n8fq",
        "outputId": "f0dac875-eb70-4de0-b001-91180f43b705"
      },
      "execution_count": 12,
      "outputs": [
        {
          "output_type": "stream",
          "name": "stdout",
          "text": [
            "label\n",
            "0    17421\n",
            "2    15802\n",
            "1    14072\n",
            "Name: count, dtype: int64\n",
            "label\n",
            "0    4277\n",
            "2    3911\n",
            "1    3636\n",
            "Name: count, dtype: int64\n"
          ]
        }
      ]
    },
    {
      "cell_type": "markdown",
      "source": [
        "## **Procesamiento del Dataset**"
      ],
      "metadata": {
        "id": "VF5JFgKKMs5-"
      }
    },
    {
      "cell_type": "code",
      "source": [
        "def build_vocab(texts):\n",
        "        all_tokens = [token for text in texts for token in text]\n",
        "        vocab = {token: idx for idx, token in enumerate(set(all_tokens))}\n",
        "        vocab['<pad>'] = len(vocab)\n",
        "        print(f\"Vocabulary Length is: {len(vocab)}\")\n",
        "        return vocab, len(vocab)\n",
        "\n",
        "vocab, VOCAB_SIZE = build_vocab(train_data)"
      ],
      "metadata": {
        "colab": {
          "base_uri": "https://localhost:8080/"
        },
        "id": "YajcIf8foEyq",
        "outputId": "38c05838-9477-4d12-e4eb-8c55979e46aa"
      },
      "execution_count": 13,
      "outputs": [
        {
          "output_type": "stream",
          "name": "stdout",
          "text": [
            "Vocabulary Length is: 32475\n"
          ]
        }
      ]
    },
    {
      "cell_type": "code",
      "source": [
        "BATCH_SIZE = 32\n",
        "HIDDEN_DIM = 256\n",
        "MAX_LEN = 50\n",
        "EMBED_DIM = 128\n",
        "pad_index = vocab[\"<pad>\"]"
      ],
      "metadata": {
        "id": "3aRgRk26oH6C"
      },
      "execution_count": 14,
      "outputs": []
    },
    {
      "cell_type": "code",
      "source": [
        "class TextDataset(Dataset):\n",
        "    def __init__(self, texts, labels, vocab=None, max_len = MAX_LEN, pad_token = '<pad>'):\n",
        "        self.texts = texts\n",
        "        self.pad_token = pad_token\n",
        "        self.max_length = max_len\n",
        "        self.labels = labels\n",
        "        self.vocab = vocab\n",
        "\n",
        "    def text_to_tensor(self, text):\n",
        "        text_indices = [self.vocab.get(token) for token in text]\n",
        "\n",
        "        if len(text_indices) < self.max_length:\n",
        "            text_indices = text_indices + [self.vocab[self.pad_token]] * (self.max_length - len(text_indices))\n",
        "        else:\n",
        "            text_indices = text_indices[:self.max_length]\n",
        "        return torch.tensor(text_indices, dtype=torch.long)\n",
        "\n",
        "    def label_to_tensor(self, label):\n",
        "        return torch.tensor(label, dtype=torch.long)\n",
        "\n",
        "    def __len__(self):\n",
        "        return len(self.texts)\n",
        "\n",
        "    def __getitem__(self, idx):\n",
        "        text = self.texts[idx]\n",
        "        label = self.labels[idx]\n",
        "        return self.text_to_tensor(text), self.label_to_tensor(label)\n",
        "\n",
        "train_dataset = TextDataset(train_df['tokens'].tolist(), train_df['label'].tolist(), vocab = vocab)\n",
        "test_dataset = TextDataset(test_df['tokens'].tolist(), test_df['label'].tolist(), vocab = vocab)\n",
        "\n",
        "for text_tensor, label_tensor in test_dataset:\n",
        "    print(f\"text_tensor: {text_tensor}\")\n",
        "    print(f\"label_tensor: {label_tensor}\")\n",
        "    tokenized_tensor = text_tensor\n",
        "    break"
      ],
      "metadata": {
        "colab": {
          "base_uri": "https://localhost:8080/"
        },
        "id": "8nGPORkboKZx",
        "outputId": "324bf9bd-3766-4871-8773-bfd5a1ea2138"
      },
      "execution_count": 15,
      "outputs": [
        {
          "output_type": "stream",
          "name": "stdout",
          "text": [
            "text_tensor: tensor([ 9134, 26260, 19678, 20670,  1338,  1079,  2128, 20670,  1507,  2731,\n",
            "        23074, 26231, 20033,   835, 32474, 32474, 32474, 32474, 32474, 32474,\n",
            "        32474, 32474, 32474, 32474, 32474, 32474, 32474, 32474, 32474, 32474,\n",
            "        32474, 32474, 32474, 32474, 32474, 32474, 32474, 32474, 32474, 32474,\n",
            "        32474, 32474, 32474, 32474, 32474, 32474, 32474, 32474, 32474, 32474])\n",
            "label_tensor: 1\n"
          ]
        }
      ]
    },
    {
      "cell_type": "code",
      "source": [
        "reverse_vocab = {v: k for k, v in vocab.items()}\n",
        "\n",
        "# Function to convert tensor to sentence\n",
        "def tensor_to_sentence(tensor):\n",
        "    tokens = [reverse_vocab[idx.item()] for idx in tensor if idx.item() in reverse_vocab]\n",
        "    return ' '.join(tokens)\n",
        "\n",
        "print(tensor_to_sentence(tokenized_tensor))"
      ],
      "metadata": {
        "colab": {
          "base_uri": "https://localhost:8080/"
        },
        "id": "INRE705aoN5F",
        "outputId": "8645999b-c382-441b-8776-065b17c44a71"
      },
      "execution_count": 16,
      "outputs": [
        {
          "output_type": "stream",
          "name": "stdout",
          "text": [
            "dota three of the strongest players at the leipzig major esports for us esportsforuscomdotathreeo <pad> <pad> <pad> <pad> <pad> <pad> <pad> <pad> <pad> <pad> <pad> <pad> <pad> <pad> <pad> <pad> <pad> <pad> <pad> <pad> <pad> <pad> <pad> <pad> <pad> <pad> <pad> <pad> <pad> <pad> <pad> <pad> <pad> <pad> <pad> <pad>\n"
          ]
        }
      ]
    },
    {
      "cell_type": "code",
      "source": [
        "device = ('cuda'\n",
        "          if torch.cuda.is_available()\n",
        "          else \"mps\"\n",
        "          if torch.backends.mps.is_available()\n",
        "          else \"cpu\"\n",
        "          )\n",
        "\n",
        "\n",
        "print(f\"Using Device: {device}\")\n",
        "\n",
        "train_dataloader = DataLoader(train_dataset, batch_size = BATCH_SIZE)\n",
        "test_dataloader = DataLoader(test_dataset, batch_size = BATCH_SIZE)\n",
        "\n",
        "n = 0\n",
        "for X, Y in test_dataloader:\n",
        "    n+=1\n",
        "    if n > 5:\n",
        "        break\n",
        "    else:\n",
        "        print(f\"Shape of X: {tensor_to_sentence(X[0])}\")\n",
        "        print(f\"Shape of Y: {Y[0]}\")"
      ],
      "metadata": {
        "colab": {
          "base_uri": "https://localhost:8080/"
        },
        "id": "dizjfr32oQld",
        "outputId": "080f2f69-5a2a-4fe7-caed-2c24678b616e"
      },
      "execution_count": 17,
      "outputs": [
        {
          "output_type": "stream",
          "name": "stdout",
          "text": [
            "Using Device: cpu\n",
            "Shape of X: dota three of the strongest players at the leipzig major esports for us esportsforuscomdotathreeo <pad> <pad> <pad> <pad> <pad> <pad> <pad> <pad> <pad> <pad> <pad> <pad> <pad> <pad> <pad> <pad> <pad> <pad> <pad> <pad> <pad> <pad> <pad> <pad> <pad> <pad> <pad> <pad> <pad> <pad> <pad> <pad> <pad> <pad> <pad> <pad>\n",
            "Shape of Y: 1\n",
            "Shape of X: i also die for kindred <pad> <pad> <pad> <pad> <pad> <pad> <pad> <pad> <pad> <pad> <pad> <pad> <pad> <pad> <pad> <pad> <pad> <pad> <pad> <pad> <pad> <pad> <pad> <pad> <pad> <pad> <pad> <pad> <pad> <pad> <pad> <pad> <pad> <pad> <pad> <pad> <pad> <pad> <pad> <pad> <pad> <pad> <pad> <pad> <pad>\n",
            "Shape of Y: 2\n",
            "Shape of X: odd rogue wild used this to hit legend times this month winrate the oneofs are flex spots there are a lot of good cards you can swap in and out in wild this final version is the best i think playhearthstone pictwittercomvefmebmj <pad> <pad> <pad> <pad> <pad> <pad> <pad> <pad>\n",
            "Shape of Y: 2\n",
            "Shape of X: all of these are me i wore tannis and handsome jack from borderlands at <pad> <pad> <pad> <pad> <pad> <pad> <pad> <pad> <pad> <pad> <pad> <pad> <pad> <pad> <pad> <pad> <pad> <pad> <pad> <pad> <pad> <pad> <pad> <pad> <pad> <pad> <pad> <pad> <pad> <pad> <pad> <pad> <pad> <pad> <pad> <pad>\n",
            "Shape of Y: 2\n",
            "Shape of X: she lets in fucking of goooooooooo <pad> <pad> <pad> <pad> <pad> <pad> <pad> <pad> <pad> <pad> <pad> <pad> <pad> <pad> <pad> <pad> <pad> <pad> <pad> <pad> <pad> <pad> <pad> <pad> <pad> <pad> <pad> <pad> <pad> <pad> <pad> <pad> <pad> <pad> <pad> <pad> <pad> <pad> <pad> <pad> <pad> <pad> <pad> <pad>\n",
            "Shape of Y: 2\n"
          ]
        }
      ]
    },
    {
      "cell_type": "markdown",
      "source": [
        "## **Modelo GRU**"
      ],
      "metadata": {
        "id": "hd3AuFiHMyLa"
      }
    },
    {
      "cell_type": "code",
      "source": [
        "class GRUModel(nn.Module):\n",
        "    def __init__(self):\n",
        "            super().__init__()\n",
        "            self.embedding = nn.Embedding(VOCAB_SIZE, EMBED_DIM)\n",
        "            self.gru = nn.GRU(EMBED_DIM, HIDDEN_DIM, dropout=0.3, batch_first=True)\n",
        "            self.fc = nn.Linear(HIDDEN_DIM, 3)\n",
        "            self.dropout = nn.Dropout(0.3)\n",
        "            self.sigmoid = nn.Sigmoid()\n",
        "            self.no_layers = 1\n",
        "\n",
        "\n",
        "\n",
        "    def forward(self, x, hidden):\n",
        "            batch_size = x.size(0)\n",
        "            embedded = self.embedding(x)\n",
        "            output, hidden = self.gru(embedded)\n",
        "            output = self.dropout(output[:, -1])\n",
        "            output = self.fc(output)\n",
        "\n",
        "\n",
        "            return output, hidden\n",
        "\n",
        "    def init_hidden(self, batch_size):\n",
        "\n",
        "        h0 = torch.zeros((self.no_layers,batch_size,HIDDEN_DIM)).to(device)\n",
        "        c0 = torch.zeros((self.no_layers,batch_size,HIDDEN_DIM)).to(device)\n",
        "        hidden = (h0,c0)\n",
        "        return hidden"
      ],
      "metadata": {
        "id": "RZeici9koV2M"
      },
      "execution_count": null,
      "outputs": []
    },
    {
      "cell_type": "markdown",
      "source": [
        "## **Modelo RNN**"
      ],
      "metadata": {
        "id": "9gVybIzFNCyB"
      }
    },
    {
      "cell_type": "code",
      "source": [
        "class RNNModel(nn.Module):\n",
        "    def __init__(self):\n",
        "        super().__init__()\n",
        "        self.embedding = nn.Embedding(VOCAB_SIZE, EMBED_DIM)\n",
        "        self.rnn = nn.RNN(EMBED_DIM, HIDDEN_DIM, dropout=0.4, batch_first=True)\n",
        "        self.fc = nn.Linear(HIDDEN_DIM, 3)\n",
        "        self.dropout = nn.Dropout(0.4)\n",
        "        self.sigmoid = nn.Sigmoid()\n",
        "        self.no_layers = 1\n",
        "\n",
        "    def forward(self, x, hidden):\n",
        "        batch_size = x.size(0)\n",
        "        embedded = self.embedding(x)\n",
        "        output, hidden = self.rnn(embedded)\n",
        "        output = self.dropout(output[:, -1])\n",
        "        output = self.fc(output)\n",
        "\n",
        "        return output, hidden\n",
        "\n",
        "    def init_hidden(self, batch_size):\n",
        "\n",
        "        h0 = torch.zeros((self.no_layers,batch_size,HIDDEN_DIM)).to(device)\n",
        "        c0 = torch.zeros((self.no_layers,batch_size,HIDDEN_DIM)).to(device)\n",
        "        hidden = (h0,c0)\n",
        "        return hidden"
      ],
      "metadata": {
        "id": "9-FYPeL5NB3o"
      },
      "execution_count": null,
      "outputs": []
    },
    {
      "cell_type": "code",
      "source": [
        "gru_model = GRUModel().to(device)\n",
        "rnn_model = RNNModel().to(device)\n",
        "print(gru_model)\n",
        "print('---------------')\n",
        "print(rnn_model)"
      ],
      "metadata": {
        "id": "WPC2AybBNHtf"
      },
      "execution_count": null,
      "outputs": []
    },
    {
      "cell_type": "code",
      "source": [
        "for X, Y in test_dataloader:\n",
        "    X = X.to(device)\n",
        "    Y = Y.to(device)\n",
        "    h = gru_model.init_hidden(BATCH_SIZE)\n",
        "    h = tuple([each.data for each in h])\n",
        "    pred, h = gru_model(X, h)\n",
        "    print(f\"Shape of X: {tensor_to_sentence(X[1])}\")\n",
        "    print(f\"Shape of Y: {Y.shape}\")\n",
        "    print(f\"pred shape: {pred.shape}\")\n",
        "    break"
      ],
      "metadata": {
        "colab": {
          "base_uri": "https://localhost:8080/"
        },
        "id": "H4S06hsKoaMi",
        "outputId": "b28d3d13-9d2a-4819-e317-340f70b25032"
      },
      "execution_count": 19,
      "outputs": [
        {
          "output_type": "stream",
          "name": "stdout",
          "text": [
            "Shape of X: the borderlands ports on switch are so good that i have no complaints its definitely worth it i cant wait to get bioshock collection next <pad> <pad> <pad> <pad> <pad> <pad> <pad> <pad> <pad> <pad> <pad> <pad> <pad> <pad> <pad> <pad> <pad> <pad> <pad> <pad> <pad> <pad> <pad> <pad> <pad>\n",
            "Shape of Y: torch.Size([32])\n",
            "pred shape: torch.Size([32, 3])\n"
          ]
        }
      ]
    },
    {
      "cell_type": "code",
      "source": [
        "loss_func_rnn = torch.nn.CrossEntropyLoss().to(device)\n",
        "loss_func_gru = torch.nn.CrossEntropyLoss().to(device)\n",
        "optimizer_gru = torch.optim.Adam(gru_model.parameters(), lr=1e-3)\n",
        "optimizer_rnn = torch.optim.Adam(rnn_model.parameters(), lr=1e-3)"
      ],
      "metadata": {
        "id": "uN2EtU_loctA"
      },
      "execution_count": 20,
      "outputs": []
    },
    {
      "cell_type": "code",
      "source": [
        "def get_accuracy(pred,label):\n",
        "    pred = pred.argmax(1)\n",
        "    return torch.sum(pred == label).item()"
      ],
      "metadata": {
        "id": "sEDE-FDuogX8"
      },
      "execution_count": 21,
      "outputs": []
    },
    {
      "cell_type": "code",
      "source": [
        "CLIP = 1\n",
        "\n",
        "def train(dataloader, model, loss_fn, optimizer, train_losses):\n",
        "    size = len(dataloader.dataset)\n",
        "    model.train()\n",
        "    h = model.init_hidden(BATCH_SIZE)\n",
        "    loss_sum = 0\n",
        "    accuracy = 0\n",
        "    num_batches = len(dataloader)\n",
        "    for batch, (x, y) in enumerate(dataloader):\n",
        "        x, y = x.to(device), y.to(device)\n",
        "        h = tuple([each.data for each in h])\n",
        "        pred, h = model(x, h)\n",
        "        loss = loss_fn(pred, y)\n",
        "        loss_sum += loss.item()\n",
        "        loss.backward()\n",
        "        torch.nn.utils.clip_grad_norm_(model.parameters(), CLIP)\n",
        "        optimizer.step()\n",
        "        optimizer.zero_grad()\n",
        "        accuracy += get_accuracy(pred, y)\n",
        "        if batch % 200 == 0:\n",
        "            loss, current = loss.item(), (batch + 1) * len(x)\n",
        "            print(f\"loss: {loss:>7f} [{current:>5d}/{size:>5d}]\")\n",
        "\n",
        "    mean_loss = loss_sum / num_batches\n",
        "    accuracy /= size\n",
        "    train_losses.append(mean_loss)\n",
        "    print(f\"Training loss: {mean_loss:>7f}\")\n",
        "    print(f\"Training accuracy: {(accuracy*100):>7f}\")"
      ],
      "metadata": {
        "id": "Rm-F7zkDoiBa"
      },
      "execution_count": 22,
      "outputs": []
    },
    {
      "cell_type": "code",
      "source": [
        "def test(dataloader, model, loss_fn, test_losses):\n",
        "    size = len(dataloader.dataset)\n",
        "    num_batches = len(dataloader)\n",
        "    model.eval()\n",
        "    test_loss, accuracy = 0, 0\n",
        "    h = model.init_hidden(BATCH_SIZE)\n",
        "    with torch.no_grad():\n",
        "        for x, y in dataloader:\n",
        "            x, y = x.to(device), y.to(device)\n",
        "            h = tuple([each.data for each in h])\n",
        "            pred, h = model(x, h)\n",
        "            test_loss += loss_fn(pred, y).item()\n",
        "            accuracy += get_accuracy(pred, y)\n",
        "    test_loss /= num_batches\n",
        "    accuracy /= size\n",
        "    print(\"________\")\n",
        "    print(f\"Test loss: {test_loss:>7f}\")\n",
        "    print(f\"Test accuracy: {(accuracy*100):>0.1f}%\")\n",
        "    test_losses.append(test_loss)"
      ],
      "metadata": {
        "id": "jqGar-GQokaf"
      },
      "execution_count": 23,
      "outputs": []
    },
    {
      "cell_type": "markdown",
      "source": [
        "## **Entrenamiento GRU**"
      ],
      "metadata": {
        "id": "9WkG_gQmNL2s"
      }
    },
    {
      "cell_type": "code",
      "source": [
        "train_losses = []\n",
        "test_losses = []\n",
        "\n",
        "for i in range(10):\n",
        "    print(f'Epoch {i} -----------------------------------')\n",
        "    train(train_dataloader, gru_model, loss_func_gru, optimizer_gru, train_losses)\n",
        "    test(test_dataloader, gru_model, loss_func_gru, test_losses)\n",
        "\n",
        "print('Finished Training')"
      ],
      "metadata": {
        "colab": {
          "base_uri": "https://localhost:8080/"
        },
        "id": "rJo0jA-6omSy",
        "outputId": "527762dc-3290-4d14-cc27-e84a735f23e8"
      },
      "execution_count": 24,
      "outputs": [
        {
          "output_type": "stream",
          "name": "stdout",
          "text": [
            "Epoch 0 -----------------------------------\n",
            "loss: 1.114862 [   32/47295]\n",
            "loss: 1.112295 [ 6432/47295]\n",
            "loss: 0.827116 [12832/47295]\n",
            "loss: 0.849782 [19232/47295]\n",
            "loss: 0.858768 [25632/47295]\n",
            "loss: 0.856939 [32032/47295]\n",
            "loss: 0.754257 [38432/47295]\n",
            "loss: 0.790258 [44832/47295]\n",
            "Training loss: 0.845951\n",
            "Training accuracy: 60.264299\n",
            "________\n",
            "Test loss: 0.613439\n",
            "Test accuracy: 74.7%\n",
            "Epoch 1 -----------------------------------\n",
            "loss: 0.611270 [   32/47295]\n",
            "loss: 0.596898 [ 6432/47295]\n",
            "loss: 0.327023 [12832/47295]\n",
            "loss: 0.491329 [19232/47295]\n",
            "loss: 0.476967 [25632/47295]\n",
            "loss: 0.776023 [32032/47295]\n",
            "loss: 0.347811 [38432/47295]\n",
            "loss: 0.343557 [44832/47295]\n",
            "Training loss: 0.438645\n",
            "Training accuracy: 82.681045\n",
            "________\n",
            "Test loss: 0.422884\n",
            "Test accuracy: 83.8%\n",
            "Epoch 2 -----------------------------------\n",
            "loss: 0.179244 [   32/47295]\n",
            "loss: 0.284165 [ 6432/47295]\n",
            "loss: 0.078739 [12832/47295]\n",
            "loss: 0.176048 [19232/47295]\n",
            "loss: 0.197824 [25632/47295]\n",
            "loss: 0.377056 [32032/47295]\n",
            "loss: 0.263684 [38432/47295]\n",
            "loss: 0.201587 [44832/47295]\n",
            "Training loss: 0.211734\n",
            "Training accuracy: 91.956866\n",
            "________\n",
            "Test loss: 0.449726\n",
            "Test accuracy: 86.1%\n",
            "Epoch 3 -----------------------------------\n",
            "loss: 0.090977 [   32/47295]\n",
            "loss: 0.052241 [ 6432/47295]\n",
            "loss: 0.066099 [12832/47295]\n",
            "loss: 0.151000 [19232/47295]\n",
            "loss: 0.141425 [25632/47295]\n",
            "loss: 0.087245 [32032/47295]\n",
            "loss: 0.212414 [38432/47295]\n",
            "loss: 0.212776 [44832/47295]\n",
            "Training loss: 0.125870\n",
            "Training accuracy: 95.215139\n",
            "________\n",
            "Test loss: 0.483178\n",
            "Test accuracy: 87.0%\n",
            "Epoch 4 -----------------------------------\n",
            "loss: 0.069975 [   32/47295]\n",
            "loss: 0.010275 [ 6432/47295]\n",
            "loss: 0.192289 [12832/47295]\n",
            "loss: 0.235588 [19232/47295]\n",
            "loss: 0.016273 [25632/47295]\n",
            "loss: 0.045738 [32032/47295]\n",
            "loss: 0.153890 [38432/47295]\n",
            "loss: 0.149103 [44832/47295]\n",
            "Training loss: 0.094381\n",
            "Training accuracy: 96.363252\n",
            "________\n",
            "Test loss: 0.471703\n",
            "Test accuracy: 87.5%\n",
            "Epoch 5 -----------------------------------\n",
            "loss: 0.242668 [   32/47295]\n",
            "loss: 0.011265 [ 6432/47295]\n",
            "loss: 0.004253 [12832/47295]\n",
            "loss: 0.130557 [19232/47295]\n",
            "loss: 0.003930 [25632/47295]\n",
            "loss: 0.007577 [32032/47295]\n",
            "loss: 0.105989 [38432/47295]\n",
            "loss: 0.020639 [44832/47295]\n",
            "Training loss: 0.079087\n",
            "Training accuracy: 96.836875\n",
            "________\n",
            "Test loss: 0.516695\n",
            "Test accuracy: 87.9%\n",
            "Epoch 6 -----------------------------------\n",
            "loss: 0.067442 [   32/47295]\n",
            "loss: 0.007639 [ 6432/47295]\n",
            "loss: 0.004232 [12832/47295]\n",
            "loss: 0.113952 [19232/47295]\n",
            "loss: 0.052263 [25632/47295]\n",
            "loss: 0.031745 [32032/47295]\n",
            "loss: 0.145943 [38432/47295]\n",
            "loss: 0.001153 [44832/47295]\n",
            "Training loss: 0.073215\n",
            "Training accuracy: 97.022941\n",
            "________\n",
            "Test loss: 0.509862\n",
            "Test accuracy: 88.0%\n",
            "Epoch 7 -----------------------------------\n",
            "loss: 0.054862 [   32/47295]\n",
            "loss: 0.155385 [ 6432/47295]\n",
            "loss: 0.001161 [12832/47295]\n",
            "loss: 0.089113 [19232/47295]\n",
            "loss: 0.010781 [25632/47295]\n",
            "loss: 0.046759 [32032/47295]\n",
            "loss: 0.075532 [38432/47295]\n",
            "loss: 0.025761 [44832/47295]\n",
            "Training loss: 0.068997\n",
            "Training accuracy: 97.067343\n",
            "________\n",
            "Test loss: 0.494768\n",
            "Test accuracy: 88.3%\n",
            "Epoch 8 -----------------------------------\n",
            "loss: 0.047762 [   32/47295]\n",
            "loss: 0.029975 [ 6432/47295]\n",
            "loss: 0.000659 [12832/47295]\n",
            "loss: 0.058557 [19232/47295]\n",
            "loss: 0.001570 [25632/47295]\n",
            "loss: 0.012323 [32032/47295]\n",
            "loss: 0.093339 [38432/47295]\n",
            "loss: 0.004267 [44832/47295]\n",
            "Training loss: 0.063120\n",
            "Training accuracy: 97.363358\n",
            "________\n",
            "Test loss: 0.496460\n",
            "Test accuracy: 88.7%\n",
            "Epoch 9 -----------------------------------\n",
            "loss: 0.055661 [   32/47295]\n",
            "loss: 0.005548 [ 6432/47295]\n",
            "loss: 0.001965 [12832/47295]\n",
            "loss: 0.116525 [19232/47295]\n",
            "loss: 0.002642 [25632/47295]\n",
            "loss: 0.001545 [32032/47295]\n",
            "loss: 0.104319 [38432/47295]\n",
            "loss: 0.001455 [44832/47295]\n",
            "Training loss: 0.062240\n",
            "Training accuracy: 97.297812\n",
            "________\n",
            "Test loss: 0.499654\n",
            "Test accuracy: 88.5%\n",
            "Finished Training\n"
          ]
        }
      ]
    },
    {
      "cell_type": "code",
      "source": [
        "print(train_losses)"
      ],
      "metadata": {
        "colab": {
          "base_uri": "https://localhost:8080/"
        },
        "id": "ToiHSOa2ooGn",
        "outputId": "3bad0acb-82bf-4225-bf6e-96d594597619"
      },
      "execution_count": 25,
      "outputs": [
        {
          "output_type": "stream",
          "name": "stdout",
          "text": [
            "[0.845951328480034, 0.43864487085355314, 0.21173367700419807, 0.12586988862019463, 0.09438113222076369, 0.07908677163686907, 0.0732148562358955, 0.06899724923013123, 0.0631197545061399, 0.062240354072535566]\n"
          ]
        }
      ]
    },
    {
      "cell_type": "code",
      "source": [
        "plt.figure(figsize=(10, 5))\n",
        "plt.plot(train_losses, label='Training Loss')\n",
        "plt.plot(test_losses, label='Val Loss')\n",
        "plt.xlabel('Epoch')\n",
        "plt.ylabel('Loss')\n",
        "plt.title('Training and Validation Loss Over Epochs')\n",
        "plt.legend()\n",
        "plt.show()"
      ],
      "metadata": {
        "colab": {
          "base_uri": "https://localhost:8080/",
          "height": 487
        },
        "id": "kLPkD-AfzSiv",
        "outputId": "49f7444f-20b5-430f-b14d-03e750ea9d0d"
      },
      "execution_count": 26,
      "outputs": [
        {
          "output_type": "display_data",
          "data": {
            "text/plain": [
              "<Figure size 1000x500 with 1 Axes>"
            ],
            "image/png": "[encoded data removed]"
          },
          "metadata": {}
        }
      ]
    },
    {
      "cell_type": "code",
      "source": [
        "for X, Y in test_dataloader:\n",
        "    X = X.to(device)\n",
        "    Y = Y.to(device)\n",
        "    h = gru_model.init_hidden(BATCH_SIZE)\n",
        "    h = tuple([each.data for each in h])\n",
        "    pred, h = gru_model(X, h)\n",
        "    print(f\"Shape of X: {tensor_to_sentence(X[10])}\")\n",
        "    print(f\"Shape of Y: {Y[10]}\")\n",
        "    print(f\"pred shape: {pred[10]}\")\n",
        "    x = X\n",
        "    y = Y\n",
        "    break"
      ],
      "metadata": {
        "colab": {
          "base_uri": "https://localhost:8080/"
        },
        "id": "rVfxTMljzVAt",
        "outputId": "b1855c2c-b567-4c47-dcf5-d8d5bb853bc9"
      },
      "execution_count": 27,
      "outputs": [
        {
          "output_type": "stream",
          "name": "stdout",
          "text": [
            "Shape of X: grand theft city one hold ps youtubetvdwipwlzxm <pad> <pad> <pad> <pad> <pad> <pad> <pad> <pad> <pad> <pad> <pad> <pad> <pad> <pad> <pad> <pad> <pad> <pad> <pad> <pad> <pad> <pad> <pad> <pad> <pad> <pad> <pad> <pad> <pad> <pad> <pad> <pad> <pad> <pad> <pad> <pad> <pad> <pad> <pad> <pad> <pad> <pad> <pad>\n",
            "Shape of Y: 1\n",
            "pred shape: tensor([-1.2459,  2.9637, -1.2654], grad_fn=<SelectBackward0>)\n"
          ]
        }
      ]
    },
    {
      "cell_type": "code",
      "source": [
        "import numpy as np\n",
        "from sklearn.metrics import confusion_matrix,classification_report\n",
        "import seaborn as sns\n",
        "import matplotlib.pyplot as plt\n",
        "\n",
        "# Confusion Matrix on 1 batch in the validation set\n",
        "\n",
        "h = gru_model.init_hidden(BATCH_SIZE)\n",
        "h = tuple([each.data for each in h])\n",
        "predicted, h = gru_model(x, h)\n",
        "print(y)\n",
        "print(predicted.argmax(1))\n",
        "y = y.cpu().detach().numpy()\n",
        "cm = confusion_matrix(y, predicted.argmax(1).cpu().detach().numpy())\n",
        "sns.heatmap(cm,\n",
        "            annot=True,\n",
        "            fmt='g',\n",
        "            xticklabels=['Negative', 'Positive'],\n",
        "            yticklabels=['Negative', 'Positive'])\n",
        "plt.xlabel('Prediction',fontsize=13)\n",
        "plt.ylabel('Actual',fontsize=13)\n",
        "plt.title('Confusion Matrix',fontsize=17)\n",
        "plt.show()"
      ],
      "metadata": {
        "colab": {
          "base_uri": "https://localhost:8080/",
          "height": 550
        },
        "id": "EzOHCgkrzYDq",
        "outputId": "63933592-9d17-4784-bc34-0f9297fab4c3"
      },
      "execution_count": 28,
      "outputs": [
        {
          "output_type": "stream",
          "name": "stdout",
          "text": [
            "tensor([1, 1, 0, 2, 0, 2, 0, 0, 0, 1, 1, 1, 2, 0, 2, 0, 0, 0, 1, 1, 1, 2, 1, 1,\n",
            "        2, 1, 2, 2, 1, 0, 0, 1])\n",
            "tensor([1, 1, 0, 2, 0, 2, 0, 0, 0, 1, 1, 1, 2, 0, 1, 0, 0, 0, 0, 1, 2, 2, 1, 1,\n",
            "        2, 1, 2, 2, 1, 0, 0, 1])\n"
          ]
        },
        {
          "output_type": "display_data",
          "data": {
            "text/plain": [
              "<Figure size 640x480 with 2 Axes>"
            ],
            "image/png": "[encoded data removed]"
          },
          "metadata": {}
        }
      ]
    },
    {
      "cell_type": "markdown",
      "source": [
        "## **Entrenamiento RNN**"
      ],
      "metadata": {
        "id": "NAuqIPgIzg09"
      }
    },
    {
      "cell_type": "code",
      "source": [
        "train_losses = []\n",
        "test_losses = []\n",
        "\n",
        "for i in range(10):\n",
        "    print(f'Epoch {i} -----------------------------------')\n",
        "    train(train_dataloader, rnn_model, loss_func_rnn, optimizer_rnn, train_losses)\n",
        "    test(test_dataloader, rnn_model, loss_func_rnn, test_losses)\n",
        "\n",
        "print('Finished Training')"
      ],
      "metadata": {
        "colab": {
          "base_uri": "https://localhost:8080/"
        },
        "id": "h0tIZrS9zdSI",
        "outputId": "87f1b138-3657-4e01-a2c5-280e86a7bbe5"
      },
      "execution_count": 29,
      "outputs": [
        {
          "output_type": "stream",
          "name": "stdout",
          "text": [
            "Epoch 0 -----------------------------------\n",
            "loss: 1.115160 [   32/47295]\n",
            "loss: 1.187438 [ 6432/47295]\n",
            "loss: 1.091075 [12832/47295]\n",
            "loss: 1.209771 [19232/47295]\n",
            "loss: 1.086330 [25632/47295]\n",
            "loss: 1.085615 [32032/47295]\n",
            "loss: 1.112945 [38432/47295]\n",
            "loss: 1.193296 [44832/47295]\n",
            "Training loss: 1.122174\n",
            "Training accuracy: 34.200233\n",
            "________\n",
            "Test loss: 1.125487\n",
            "Test accuracy: 35.3%\n",
            "Epoch 1 -----------------------------------\n",
            "loss: 1.102082 [   32/47295]\n",
            "loss: 1.092443 [ 6432/47295]\n",
            "loss: 1.052824 [12832/47295]\n",
            "loss: 1.169420 [19232/47295]\n",
            "loss: 1.150684 [25632/47295]\n",
            "loss: 1.093663 [32032/47295]\n",
            "loss: 1.169674 [38432/47295]\n",
            "loss: 1.162343 [44832/47295]\n",
            "Training loss: 1.116243\n",
            "Training accuracy: 34.551221\n",
            "________\n",
            "Test loss: 1.125760\n",
            "Test accuracy: 34.7%\n",
            "Epoch 2 -----------------------------------\n",
            "loss: 1.152841 [   32/47295]\n",
            "loss: 1.179165 [ 6432/47295]\n",
            "loss: 1.052899 [12832/47295]\n",
            "loss: 1.119417 [19232/47295]\n",
            "loss: 1.115413 [25632/47295]\n",
            "loss: 1.105936 [32032/47295]\n",
            "loss: 1.097029 [38432/47295]\n",
            "loss: 1.142207 [44832/47295]\n",
            "Training loss: 1.114869\n",
            "Training accuracy: 34.862036\n",
            "________\n",
            "Test loss: 1.131808\n",
            "Test accuracy: 34.2%\n",
            "Epoch 3 -----------------------------------\n",
            "loss: 1.150196 [   32/47295]\n",
            "loss: 1.152444 [ 6432/47295]\n",
            "loss: 1.042280 [12832/47295]\n",
            "loss: 1.153376 [19232/47295]\n",
            "loss: 1.127448 [25632/47295]\n",
            "loss: 1.125893 [32032/47295]\n",
            "loss: 1.103743 [38432/47295]\n",
            "loss: 1.127378 [44832/47295]\n",
            "Training loss: 1.115511\n",
            "Training accuracy: 34.821863\n",
            "________\n",
            "Test loss: 1.114341\n",
            "Test accuracy: 34.3%\n",
            "Epoch 4 -----------------------------------\n",
            "loss: 1.093351 [   32/47295]\n",
            "loss: 1.096429 [ 6432/47295]\n",
            "loss: 1.088864 [12832/47295]\n",
            "loss: 1.162179 [19232/47295]\n",
            "loss: 1.134990 [25632/47295]\n",
            "loss: 1.108613 [32032/47295]\n",
            "loss: 1.114192 [38432/47295]\n",
            "loss: 1.103019 [44832/47295]\n",
            "Training loss: 1.115446\n",
            "Training accuracy: 34.432815\n",
            "________\n",
            "Test loss: 1.121920\n",
            "Test accuracy: 34.1%\n",
            "Epoch 5 -----------------------------------\n",
            "loss: 1.122904 [   32/47295]\n",
            "loss: 1.162975 [ 6432/47295]\n",
            "loss: 1.017479 [12832/47295]\n",
            "loss: 1.090151 [19232/47295]\n",
            "loss: 1.095714 [25632/47295]\n",
            "loss: 1.109816 [32032/47295]\n",
            "loss: 1.117378 [38432/47295]\n",
            "loss: 1.090562 [44832/47295]\n",
            "Training loss: 1.114057\n",
            "Training accuracy: 34.853579\n",
            "________\n",
            "Test loss: 1.111969\n",
            "Test accuracy: 34.1%\n",
            "Epoch 6 -----------------------------------\n",
            "loss: 1.097870 [   32/47295]\n",
            "loss: 1.114509 [ 6432/47295]\n",
            "loss: 1.074807 [12832/47295]\n",
            "loss: 1.135947 [19232/47295]\n",
            "loss: 1.128777 [25632/47295]\n",
            "loss: 1.052871 [32032/47295]\n",
            "loss: 1.134285 [38432/47295]\n",
            "loss: 1.107539 [44832/47295]\n",
            "Training loss: 1.114517\n",
            "Training accuracy: 34.855693\n",
            "________\n",
            "Test loss: 1.099252\n",
            "Test accuracy: 36.2%\n",
            "Epoch 7 -----------------------------------\n",
            "loss: 1.127767 [   32/47295]\n",
            "loss: 1.162521 [ 6432/47295]\n",
            "loss: 0.987220 [12832/47295]\n",
            "loss: 1.114127 [19232/47295]\n",
            "loss: 1.245763 [25632/47295]\n",
            "loss: 1.032544 [32032/47295]\n",
            "loss: 1.189645 [38432/47295]\n",
            "loss: 1.079880 [44832/47295]\n",
            "Training loss: 1.112131\n",
            "Training accuracy: 34.984671\n",
            "________\n",
            "Test loss: 1.109517\n",
            "Test accuracy: 34.8%\n",
            "Epoch 8 -----------------------------------\n",
            "loss: 1.128368 [   32/47295]\n",
            "loss: 1.133196 [ 6432/47295]\n",
            "loss: 1.035535 [12832/47295]\n",
            "loss: 1.066390 [19232/47295]\n",
            "loss: 1.208681 [25632/47295]\n",
            "loss: 1.065823 [32032/47295]\n",
            "loss: 1.073452 [38432/47295]\n",
            "loss: 1.051514 [44832/47295]\n",
            "Training loss: 1.109092\n",
            "Training accuracy: 35.158051\n",
            "________\n",
            "Test loss: 1.098267\n",
            "Test accuracy: 35.0%\n",
            "Epoch 9 -----------------------------------\n",
            "loss: 1.102924 [   32/47295]\n",
            "loss: 1.163802 [ 6432/47295]\n",
            "loss: 1.046022 [12832/47295]\n",
            "loss: 1.060672 [19232/47295]\n",
            "loss: 1.214732 [25632/47295]\n",
            "loss: 1.055642 [32032/47295]\n",
            "loss: 1.109291 [38432/47295]\n",
            "loss: 1.098148 [44832/47295]\n",
            "Training loss: 1.108650\n",
            "Training accuracy: 35.411777\n",
            "________\n",
            "Test loss: 1.094205\n",
            "Test accuracy: 34.9%\n",
            "Finished Training\n"
          ]
        }
      ]
    },
    {
      "cell_type": "code",
      "source": [
        "print(train_losses)"
      ],
      "metadata": {
        "colab": {
          "base_uri": "https://localhost:8080/"
        },
        "id": "F_Z3D1BFzoXx",
        "outputId": "5d8edc87-55fc-4c84-ae52-227180032175"
      },
      "execution_count": 30,
      "outputs": [
        {
          "output_type": "stream",
          "name": "stdout",
          "text": [
            "[1.1221738231036917, 1.1162432986280109, 1.1148692962281275, 1.1155106036927607, 1.1154464249762535, 1.1140569152464241, 1.1145172863190487, 1.1121309002374926, 1.1090921017571942, 1.1086501073046853]\n"
          ]
        }
      ]
    },
    {
      "cell_type": "code",
      "source": [
        "plt.figure(figsize=(10, 5))\n",
        "plt.plot(train_losses, label='Training Loss')\n",
        "plt.plot(test_losses, label='Val Loss')\n",
        "plt.xlabel('Epoch')\n",
        "plt.ylabel('Loss')\n",
        "plt.title('Training and Validation Loss Over Epochs')\n",
        "plt.legend()\n",
        "plt.show()"
      ],
      "metadata": {
        "colab": {
          "base_uri": "https://localhost:8080/",
          "height": 487
        },
        "id": "cu9IgDPnLCJl",
        "outputId": "71864fab-8222-46ca-a447-6750edf36eb2"
      },
      "execution_count": 31,
      "outputs": [
        {
          "output_type": "display_data",
          "data": {
            "text/plain": [
              "<Figure size 1000x500 with 1 Axes>"
            ],
            "image/png": "[encoded data removed]"
          },
          "metadata": {}
        }
      ]
    },
    {
      "cell_type": "code",
      "source": [
        "for X, Y in test_dataloader:\n",
        "    X = X.to(device)\n",
        "    Y = Y.to(device)\n",
        "    h = rnn_model.init_hidden(BATCH_SIZE)\n",
        "    h = tuple([each.data for each in h])\n",
        "    pred, h = rnn_model(X, h)\n",
        "    print(f\"Shape of X: {tensor_to_sentence(X[10])}\")\n",
        "    print(f\"Shape of Y: {Y[10]}\")\n",
        "    print(f\"pred shape: {pred[10]}\")\n",
        "    x = X\n",
        "    y = Y\n",
        "    break"
      ],
      "metadata": {
        "colab": {
          "base_uri": "https://localhost:8080/"
        },
        "id": "sB_ssIH4LDrX",
        "outputId": "dd44ff2d-cd47-47c4-fa02-4e1653994e90"
      },
      "execution_count": 32,
      "outputs": [
        {
          "output_type": "stream",
          "name": "stdout",
          "text": [
            "Shape of X: grand theft city one hold ps youtubetvdwipwlzxm <pad> <pad> <pad> <pad> <pad> <pad> <pad> <pad> <pad> <pad> <pad> <pad> <pad> <pad> <pad> <pad> <pad> <pad> <pad> <pad> <pad> <pad> <pad> <pad> <pad> <pad> <pad> <pad> <pad> <pad> <pad> <pad> <pad> <pad> <pad> <pad> <pad> <pad> <pad> <pad> <pad> <pad> <pad>\n",
            "Shape of Y: 1\n",
            "pred shape: tensor([ 0.0705, -0.1244, -0.1880], grad_fn=<SelectBackward0>)\n"
          ]
        }
      ]
    },
    {
      "cell_type": "code",
      "source": [
        "import numpy as np\n",
        "from sklearn.metrics import confusion_matrix,classification_report\n",
        "import seaborn as sns\n",
        "import matplotlib.pyplot as plt\n",
        "\n",
        "# Confusion Matrix on 1 batch in the validation set\n",
        "\n",
        "h = rnn_model.init_hidden(BATCH_SIZE)\n",
        "h = tuple([each.data for each in h])\n",
        "predicted, h = rnn_model(x, h)\n",
        "print(y)\n",
        "print(predicted.argmax(1))\n",
        "y = y.cpu().detach().numpy()\n",
        "cm = confusion_matrix(y, predicted.argmax(1).cpu().detach().numpy())\n",
        "sns.heatmap(cm,\n",
        "            annot=True,\n",
        "            fmt='g',\n",
        "            xticklabels=['Negative', 'Positive'],\n",
        "            yticklabels=['Negative', 'Positive'])\n",
        "plt.xlabel('Prediction',fontsize=13)\n",
        "plt.ylabel('Actual',fontsize=13)\n",
        "plt.title('Confusion Matrix',fontsize=17)\n",
        "plt.show()"
      ],
      "metadata": {
        "colab": {
          "base_uri": "https://localhost:8080/",
          "height": 550
        },
        "id": "dSmrlaHjLGSk",
        "outputId": "d5cc47bb-f8df-42f7-89b2-b22b918f5b12"
      },
      "execution_count": 33,
      "outputs": [
        {
          "output_type": "stream",
          "name": "stdout",
          "text": [
            "tensor([1, 1, 0, 2, 0, 2, 0, 0, 0, 1, 1, 1, 2, 0, 2, 0, 0, 0, 1, 1, 1, 2, 1, 1,\n",
            "        2, 1, 2, 2, 1, 0, 0, 1])\n",
            "tensor([0, 0, 0, 2, 0, 0, 0, 0, 0, 0, 0, 0, 0, 0, 0, 0, 0, 0, 0, 2, 0, 0, 0, 0,\n",
            "        0, 2, 0, 0, 0, 0, 0, 0])\n"
          ]
        },
        {
          "output_type": "display_data",
          "data": {
            "text/plain": [
              "<Figure size 640x480 with 2 Axes>"
            ],
            "image/png": "[encoded data removed]"
          },
          "metadata": {}
        }
      ]
    }
  ]
}